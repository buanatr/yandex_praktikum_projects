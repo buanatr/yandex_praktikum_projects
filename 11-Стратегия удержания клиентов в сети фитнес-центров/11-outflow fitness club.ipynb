{
 "cells": [
  {
   "cell_type": "markdown",
   "metadata": {},
   "source": [
    "# Исследование на тему: \"Стратегия удержания клиентов в сети фитнес-центров\""
   ]
  },
  {
   "cell_type": "markdown",
   "metadata": {},
   "source": [
    "### Цели:"
   ]
  },
  {
   "cell_type": "markdown",
   "metadata": {},
   "source": [
    "- научиться прогнозировать вероятность оттока (на уровне следующего месяца) для каждого клиента;\n",
    "- сформировать типичные портреты клиентов: выделить несколько наиболее ярких групп и охарактеризовать их основные свойства;\n",
    "- проанализировать основные признаки, наиболее сильно влияющие на отток;\n",
    "- сформулировать основные выводы и разработать рекомендации по повышению качества работы с клиентами:\n",
    "    - 1) выделить целевые группы клиентов;\n",
    "    - 2) предложить меры по снижению оттока;\n",
    "    - 3) определить другие особенности взаимодействия с клиентами."
   ]
  },
  {
   "cell_type": "markdown",
   "metadata": {},
   "source": [
    "### Описание проекта:"
   ]
  },
  {
   "cell_type": "markdown",
   "metadata": {},
   "source": [
    "Сеть фитнес-центров «Культурист-датасаентист» разрабатывает стратегию взаимодействия с клиентами на основе аналитических данных.\n",
    "Распространённая проблема фитнес-клубов и других сервисов — отток клиентов. Чтобы бороться с оттоком, отдел по работе с клиентами «Культуриста-датасаентиста» перевёл в электронный вид множество клиентских анкет. Наша задача — провести анализ и подготовить план действий по удержанию клиентов."
   ]
  },
  {
   "cell_type": "markdown",
   "metadata": {},
   "source": [
    "### Ход исследования:"
   ]
  },
  {
   "cell_type": "markdown",
   "metadata": {},
   "source": [
    "**Шаг 1. Загрузка данных**\n",
    "\n",
    "«Культурист-датасаентист» предоставил сведения в csv-файлах. Заказчик подготовил данные, которые содержат данные на месяц до оттока и факт оттока на определённый месяц. **Набор данных включает следующие поля:**\n",
    "\n",
    "- 'Churn' — факт оттока в текущем месяце;\n",
    "    \n",
    "**Текущие поля в датасете:**\n",
    "\n",
    "Данные клиента за предыдущий до проверки факта оттока месяц:\n",
    "\n",
    "- 'gender' — пол;\n",
    "- 'Near_Location' — проживание или работа в районе, где находится фитнес-центр;\n",
    "- 'Partner' — сотрудник компании-партнёра клуба (сотрудничество с компаниями, чьи сотрудники могут получать скидки на абонемент — в таком случае фитнес-центр хранит информацию о работодателе клиента);\n",
    "- Promo_friends — факт первоначальной записи в рамках акции «приведи друга» (использовал промо-код от знакомого при оплате первого абонемента);\n",
    "- 'Phone' — наличие контактного телефона;\n",
    "- 'Age' — возраст;\n",
    "- 'Lifetime' — время с момента первого обращения в фитнес-центр (в месяцах).\n",
    "\n",
    "**Информация на основе журнала посещений, покупок и информация о текущем статусе абонемента клиента:**\n",
    "\n",
    "- 'Contract_period' — длительность текущего действующего абонемента (месяц, 3 месяца, 6 месяцев, год);\n",
    "- 'Month_to_end_contract' — срок до окончания текущего действующего абонемента (в месяцах);\n",
    "- 'Group_visits' — факт посещения групповых занятий;\n",
    "- 'Avg_class_frequency_total' — средняя частота посещений в неделю за все время с начала действия абонемента;\n",
    "- 'Avg_class_frequency_current_month' — средняя частота посещений в неделю за предыдущий месяц;\n",
    "- 'Avg_additional_charges_total' — суммарная выручка от других услуг фитнес-центра: кафе, спорт-товары, косметический и массажный салон.\n",
    "\n",
    "Путь к файлу: /datasets/gym_churn.csv. "
   ]
  },
  {
   "cell_type": "markdown",
   "metadata": {},
   "source": [
    "**Шаг 2. Проведение исследовательского анализа данных (EDA)**\n",
    "\n",
    "- Посмотреть на датасет: есть ли в нем отсутствующие признаки, изучить средние значения и стандартные отклонения (пригодится метод describe());\n",
    "- Посмотреть на средние значения признаков в двух группах — тех, кто ушел в отток и тех, кто остался (воспользоваться методом groupby());\n",
    "- Построить столбчатые гистограммы и распределения признаков для тех, кто ушёл (отток) и тех, кто остался (не попали в отток);\n",
    "- Построить матрицу корреляций и отобразить её."
   ]
  },
  {
   "cell_type": "markdown",
   "metadata": {},
   "source": [
    "**Шаг 3. Построить модель прогнозирования оттока клиентов**\n",
    "\n",
    "Построить модель бинарной классификации клиентов, где целевой признак — факт оттока клиента в следующем месяце:\n",
    "\n",
    "- Разбить данные на обучающую и валидационную выборку функцией train_test_split().\n",
    "- Обучить модель на train-выборке двумя способами:\n",
    "    - логистической регрессией,\n",
    "    - случайным лесом.\n",
    "- Оценить метрики accuracy, precision и recall для обеих моделей на валидационной выборке. Сравнить по ним модели. Какая модель показала себя лучше на основании метрик? \n",
    "\n",
    "P.S. Не забыть указать параметр random_state при разделении выборки и задании алгоритма."
   ]
  },
  {
   "cell_type": "markdown",
   "metadata": {},
   "source": [
    "**Шаг 4. Сделать кластеризацию клиентов**\n",
    "\n",
    "Отложить в сторону столбец с оттоком и провести кластеризацию объектов (клиентов):\n",
    "\n",
    "- Стандартизировать данные.\n",
    "- Построить матрицу расстояний функцией linkage() на стандартизованной матрице признаков и нарисовать дендрограмму. Внимание: отрисовка дендрограммы может занять время! На основании полученного графика предположить, какое количество кластеров можно выделить.\n",
    "- Обучить модель кластеризации на основании алгоритма K-Means и спрогнозировать кластеры клиентов. Договоримся за число кластеров принять n=5.\n",
    "- Посмотреть на средние значения признаков для кластеров. Можно ли сразу что-то заметить?\n",
    "- Построить распределения признаков для кластеров. Можно ли что-то заметить по ним?\n",
    "- Для каждого полученного кластера посчитать долю оттока (методом groupby()). Отличаются ли они по доле оттока? Какие кластеры склонны к оттоку, а какие — надёжны?"
   ]
  },
  {
   "cell_type": "markdown",
   "metadata": {},
   "source": [
    "**Шаг 5. Сформулировать выводы и сделать базовые рекомендации по работе с клиентами**\n",
    "\n",
    "- Сформулировать основные выводы и предложить рекомендации для стратегии взаимодействия с клиентами и их удержания.\n",
    "- Не описывать стратегию детально: достаточно 3-4 важных принципов и примеров их реализации в виде определённых маркетинговых действий."
   ]
  },
  {
   "cell_type": "markdown",
   "metadata": {},
   "source": [
    "[Содержание:](#content)\n",
    "<a id='content'></a>\n",
    "\n",
    "[Шаг №1. Загрузка данных](#start)\n",
    "    \n",
    "[Шаг №2. Проведение исследовательского анализа данных (EDA)](#analys) \n",
    "1. [Посмотреть на датасет: есть ли в нем отсутствующие признаки, изучить средние значения и стандартные отклонения (пригодится метод describe()).](#analys1)\n",
    "2. [Посмотреть на средние значения признаков в двух группах — тех, кто ушел в отток и тех, кто остался (воспользоваться методом groupby()).](#analys2)\n",
    "3. [Построить столбчатые гистограммы и распределения признаков для тех, кто ушёл (отток) и тех, кто остался (не попали в отток)](#analys3)\n",
    "4. [Построить матрицу корреляций и отобразить её](#analys4)\n",
    "\n",
    "[Шаг №3. Построить модель прогнозирования оттока клиентов](#prognos)\n",
    "1. [Разбить данные на обучающую и валидационную выборку функцией train_test_split()](#prognos1)\n",
    "2. [Обучить модель на train-выборке двумя способами:](#prognos2)\n",
    "    - 2.1. логистической регрессией\n",
    "    - 2.2. случайным лесом\n",
    "3. [Оценить метрики accuracy, precision и recall для обеих моделей на валидационной выборке. Сравнить по ним модели. Какая модель показала себя лучше на основании метрик?](#prognos3)  \n",
    "\n",
    "[Шаг №4. Сделать кластеризацию клиентов](#claster)\n",
    "1. [Стандартизировать данные.](#claster1)\n",
    "2. [Построить матрицу расстояний функцией linkage() на стандартизованной матрице признаков и нарисовать дендрограмму. Внимание: отрисовка дендрограммы может занять время! На основании полученного графика предположить, какое количество кластеров можно выделить.](#claster2)\n",
    "3. [Обучить модель кластеризации на основании алгоритма K-Means и спрогнозировать кластеры клиентов. Договоримся за число кластеров принять n=5.](#claster3)\n",
    "4. [Посмотреть на средние значения признаков для кластеров. Можно ли сразу что-то заметить?](#claster4)\n",
    "5. [Построить распределения признаков для кластеров. Можно ли что-то заметить по ним?](#claster5)\n",
    "6. [Для каждого полученного кластера посчитать долю оттока (методом groupby()). Отличаются ли они по доле оттока? Какие кластеры склонны к оттоку, а какие — надёжны?](#claster6)\n",
    "\n",
    "[Шаг №5. Сформулировать выводы и сделать базовые рекомендации по работе с клиентами. Сформулировать основные выводы и предложить рекомендации для стратегии взаимодействия с клиентами и их удержания. Не описывать стратегию детально: достаточно 3-4 важных принципов и примеров их реализации в виде определённых маркетинговых действий.](#conclusions)"
   ]
  },
  {
   "cell_type": "markdown",
   "metadata": {},
   "source": [
    "---"
   ]
  },
  {
   "cell_type": "markdown",
   "metadata": {},
   "source": [
    "[Шаг №1. Загрузка данных](#start)\n",
    "<a id='start'></a>    "
   ]
  },
  {
   "cell_type": "markdown",
   "metadata": {},
   "source": [
    "Импортируем полезные инструменты"
   ]
  },
  {
   "cell_type": "code",
   "execution_count": 1,
   "metadata": {},
   "outputs": [],
   "source": [
    "import pandas as pd\n",
    "import seaborn as sns\n",
    "\n",
    "import matplotlib.pyplot as plt\n",
    "import numpy as np\n",
    "\n",
    "from sklearn.model_selection import train_test_split\n",
    "from sklearn.linear_model import LogisticRegression\n",
    "from sklearn.ensemble import RandomForestClassifier\n",
    "from sklearn.preprocessing import StandardScaler\n",
    "from sklearn.metrics import accuracy_score, precision_score, recall_score, f1_score\n",
    "from scipy.cluster.hierarchy import dendrogram, linkage\n",
    "from sklearn.cluster import KMeans\n",
    "from sklearn.metrics import mean_absolute_error, mean_squared_error, r2_score"
   ]
  },
  {
   "cell_type": "markdown",
   "metadata": {},
   "source": [
    "Отключим ненужные предупреждения Питона"
   ]
  },
  {
   "cell_type": "code",
   "execution_count": 2,
   "metadata": {},
   "outputs": [],
   "source": [
    "import warnings\n",
    "warnings.filterwarnings('ignore')"
   ]
  },
  {
   "cell_type": "markdown",
   "metadata": {},
   "source": [
    "Сбросим ограничения на демонстрацию количества столбцов, зададим максималное количество символов в каждой строке, а также округлим выведение значений типа float до двух знаков после запятой."
   ]
  },
  {
   "cell_type": "code",
   "execution_count": 3,
   "metadata": {},
   "outputs": [],
   "source": [
    "pd.set_option('display.max_columns', None)\n",
    "pd.set_option('display.width', 80)\n",
    "pd.options.display.float_format = '{:,.2f}'.format"
   ]
  },
  {
   "cell_type": "markdown",
   "metadata": {},
   "source": [
    "Отключим автоматический скролл"
   ]
  },
  {
   "cell_type": "code",
   "execution_count": 4,
   "metadata": {},
   "outputs": [
    {
     "data": {
      "application/javascript": [
       "IPython.OutputArea.prototype._should_scroll = function(lines) {\n",
       "    return false;\n",
       "}\n"
      ],
      "text/plain": [
       "<IPython.core.display.Javascript object>"
      ]
     },
     "metadata": {},
     "output_type": "display_data"
    }
   ],
   "source": [
    "%%javascript\n",
    "IPython.OutputArea.prototype._should_scroll = function(lines) {\n",
    "    return false;\n",
    "}"
   ]
  },
  {
   "cell_type": "markdown",
   "metadata": {},
   "source": [
    "Откроем файл с таблицей"
   ]
  },
  {
   "cell_type": "code",
   "execution_count": 5,
   "metadata": {},
   "outputs": [
    {
     "data": {
      "text/html": [
       "<div>\n",
       "<style scoped>\n",
       "    .dataframe tbody tr th:only-of-type {\n",
       "        vertical-align: middle;\n",
       "    }\n",
       "\n",
       "    .dataframe tbody tr th {\n",
       "        vertical-align: top;\n",
       "    }\n",
       "\n",
       "    .dataframe thead th {\n",
       "        text-align: right;\n",
       "    }\n",
       "</style>\n",
       "<table border=\"1\" class=\"dataframe\">\n",
       "  <thead>\n",
       "    <tr style=\"text-align: right;\">\n",
       "      <th></th>\n",
       "      <th>gender</th>\n",
       "      <th>Near_Location</th>\n",
       "      <th>Partner</th>\n",
       "      <th>Promo_friends</th>\n",
       "      <th>Phone</th>\n",
       "      <th>Contract_period</th>\n",
       "      <th>Group_visits</th>\n",
       "      <th>Age</th>\n",
       "      <th>Avg_additional_charges_total</th>\n",
       "      <th>Month_to_end_contract</th>\n",
       "      <th>Lifetime</th>\n",
       "      <th>Avg_class_frequency_total</th>\n",
       "      <th>Avg_class_frequency_current_month</th>\n",
       "      <th>Churn</th>\n",
       "    </tr>\n",
       "  </thead>\n",
       "  <tbody>\n",
       "    <tr>\n",
       "      <th>0</th>\n",
       "      <td>1</td>\n",
       "      <td>1</td>\n",
       "      <td>1</td>\n",
       "      <td>1</td>\n",
       "      <td>0</td>\n",
       "      <td>6</td>\n",
       "      <td>1</td>\n",
       "      <td>29</td>\n",
       "      <td>14.23</td>\n",
       "      <td>5.00</td>\n",
       "      <td>3</td>\n",
       "      <td>0.02</td>\n",
       "      <td>0.00</td>\n",
       "      <td>0</td>\n",
       "    </tr>\n",
       "    <tr>\n",
       "      <th>1</th>\n",
       "      <td>0</td>\n",
       "      <td>1</td>\n",
       "      <td>0</td>\n",
       "      <td>0</td>\n",
       "      <td>1</td>\n",
       "      <td>12</td>\n",
       "      <td>1</td>\n",
       "      <td>31</td>\n",
       "      <td>113.20</td>\n",
       "      <td>12.00</td>\n",
       "      <td>7</td>\n",
       "      <td>1.92</td>\n",
       "      <td>1.91</td>\n",
       "      <td>0</td>\n",
       "    </tr>\n",
       "    <tr>\n",
       "      <th>2</th>\n",
       "      <td>0</td>\n",
       "      <td>1</td>\n",
       "      <td>1</td>\n",
       "      <td>0</td>\n",
       "      <td>1</td>\n",
       "      <td>1</td>\n",
       "      <td>0</td>\n",
       "      <td>28</td>\n",
       "      <td>129.45</td>\n",
       "      <td>1.00</td>\n",
       "      <td>2</td>\n",
       "      <td>1.86</td>\n",
       "      <td>1.74</td>\n",
       "      <td>0</td>\n",
       "    </tr>\n",
       "    <tr>\n",
       "      <th>3</th>\n",
       "      <td>0</td>\n",
       "      <td>1</td>\n",
       "      <td>1</td>\n",
       "      <td>1</td>\n",
       "      <td>1</td>\n",
       "      <td>12</td>\n",
       "      <td>1</td>\n",
       "      <td>33</td>\n",
       "      <td>62.67</td>\n",
       "      <td>12.00</td>\n",
       "      <td>2</td>\n",
       "      <td>3.21</td>\n",
       "      <td>3.36</td>\n",
       "      <td>0</td>\n",
       "    </tr>\n",
       "    <tr>\n",
       "      <th>4</th>\n",
       "      <td>1</td>\n",
       "      <td>1</td>\n",
       "      <td>1</td>\n",
       "      <td>1</td>\n",
       "      <td>1</td>\n",
       "      <td>1</td>\n",
       "      <td>0</td>\n",
       "      <td>26</td>\n",
       "      <td>198.36</td>\n",
       "      <td>1.00</td>\n",
       "      <td>3</td>\n",
       "      <td>1.11</td>\n",
       "      <td>1.12</td>\n",
       "      <td>0</td>\n",
       "    </tr>\n",
       "  </tbody>\n",
       "</table>\n",
       "</div>"
      ],
      "text/plain": [
       "   gender  Near_Location  Partner  Promo_friends  Phone  Contract_period  \\\n",
       "0       1              1        1              1      0                6   \n",
       "1       0              1        0              0      1               12   \n",
       "2       0              1        1              0      1                1   \n",
       "3       0              1        1              1      1               12   \n",
       "4       1              1        1              1      1                1   \n",
       "\n",
       "   Group_visits  Age  Avg_additional_charges_total  Month_to_end_contract  \\\n",
       "0             1   29                         14.23                   5.00   \n",
       "1             1   31                        113.20                  12.00   \n",
       "2             0   28                        129.45                   1.00   \n",
       "3             1   33                         62.67                  12.00   \n",
       "4             0   26                        198.36                   1.00   \n",
       "\n",
       "   Lifetime  Avg_class_frequency_total  Avg_class_frequency_current_month  \\\n",
       "0         3                       0.02                               0.00   \n",
       "1         7                       1.92                               1.91   \n",
       "2         2                       1.86                               1.74   \n",
       "3         2                       3.21                               3.36   \n",
       "4         3                       1.11                               1.12   \n",
       "\n",
       "   Churn  \n",
       "0      0  \n",
       "1      0  \n",
       "2      0  \n",
       "3      0  \n",
       "4      0  "
      ]
     },
     "execution_count": 5,
     "metadata": {},
     "output_type": "execute_result"
    }
   ],
   "source": [
    "df = pd.read_csv('gym_churn.csv')\n",
    "df.head() #Выведем пять первых строк таблицы"
   ]
  },
  {
   "cell_type": "code",
   "execution_count": 6,
   "metadata": {},
   "outputs": [
    {
     "data": {
      "text/html": [
       "<div>\n",
       "<style scoped>\n",
       "    .dataframe tbody tr th:only-of-type {\n",
       "        vertical-align: middle;\n",
       "    }\n",
       "\n",
       "    .dataframe tbody tr th {\n",
       "        vertical-align: top;\n",
       "    }\n",
       "\n",
       "    .dataframe thead th {\n",
       "        text-align: right;\n",
       "    }\n",
       "</style>\n",
       "<table border=\"1\" class=\"dataframe\">\n",
       "  <thead>\n",
       "    <tr style=\"text-align: right;\">\n",
       "      <th></th>\n",
       "      <th>gender</th>\n",
       "      <th>Near_Location</th>\n",
       "      <th>Partner</th>\n",
       "      <th>Promo_friends</th>\n",
       "      <th>Phone</th>\n",
       "      <th>Contract_period</th>\n",
       "      <th>Group_visits</th>\n",
       "      <th>Age</th>\n",
       "      <th>Avg_additional_charges_total</th>\n",
       "      <th>Month_to_end_contract</th>\n",
       "      <th>Lifetime</th>\n",
       "      <th>Avg_class_frequency_total</th>\n",
       "      <th>Avg_class_frequency_current_month</th>\n",
       "      <th>Churn</th>\n",
       "    </tr>\n",
       "  </thead>\n",
       "  <tbody>\n",
       "    <tr>\n",
       "      <th>3995</th>\n",
       "      <td>1</td>\n",
       "      <td>1</td>\n",
       "      <td>1</td>\n",
       "      <td>0</td>\n",
       "      <td>1</td>\n",
       "      <td>12</td>\n",
       "      <td>0</td>\n",
       "      <td>33</td>\n",
       "      <td>2.41</td>\n",
       "      <td>12.00</td>\n",
       "      <td>8</td>\n",
       "      <td>2.28</td>\n",
       "      <td>2.35</td>\n",
       "      <td>0</td>\n",
       "    </tr>\n",
       "    <tr>\n",
       "      <th>3996</th>\n",
       "      <td>0</td>\n",
       "      <td>1</td>\n",
       "      <td>0</td>\n",
       "      <td>0</td>\n",
       "      <td>1</td>\n",
       "      <td>1</td>\n",
       "      <td>1</td>\n",
       "      <td>29</td>\n",
       "      <td>68.88</td>\n",
       "      <td>1.00</td>\n",
       "      <td>1</td>\n",
       "      <td>1.28</td>\n",
       "      <td>0.29</td>\n",
       "      <td>1</td>\n",
       "    </tr>\n",
       "    <tr>\n",
       "      <th>3997</th>\n",
       "      <td>1</td>\n",
       "      <td>1</td>\n",
       "      <td>1</td>\n",
       "      <td>1</td>\n",
       "      <td>1</td>\n",
       "      <td>12</td>\n",
       "      <td>0</td>\n",
       "      <td>28</td>\n",
       "      <td>78.25</td>\n",
       "      <td>11.00</td>\n",
       "      <td>2</td>\n",
       "      <td>2.79</td>\n",
       "      <td>2.83</td>\n",
       "      <td>0</td>\n",
       "    </tr>\n",
       "    <tr>\n",
       "      <th>3998</th>\n",
       "      <td>0</td>\n",
       "      <td>1</td>\n",
       "      <td>1</td>\n",
       "      <td>1</td>\n",
       "      <td>1</td>\n",
       "      <td>6</td>\n",
       "      <td>0</td>\n",
       "      <td>32</td>\n",
       "      <td>61.91</td>\n",
       "      <td>5.00</td>\n",
       "      <td>3</td>\n",
       "      <td>1.63</td>\n",
       "      <td>1.60</td>\n",
       "      <td>0</td>\n",
       "    </tr>\n",
       "    <tr>\n",
       "      <th>3999</th>\n",
       "      <td>1</td>\n",
       "      <td>0</td>\n",
       "      <td>1</td>\n",
       "      <td>0</td>\n",
       "      <td>0</td>\n",
       "      <td>12</td>\n",
       "      <td>1</td>\n",
       "      <td>30</td>\n",
       "      <td>178.86</td>\n",
       "      <td>12.00</td>\n",
       "      <td>1</td>\n",
       "      <td>1.10</td>\n",
       "      <td>1.04</td>\n",
       "      <td>0</td>\n",
       "    </tr>\n",
       "  </tbody>\n",
       "</table>\n",
       "</div>"
      ],
      "text/plain": [
       "      gender  Near_Location  Partner  Promo_friends  Phone  Contract_period  \\\n",
       "3995       1              1        1              0      1               12   \n",
       "3996       0              1        0              0      1                1   \n",
       "3997       1              1        1              1      1               12   \n",
       "3998       0              1        1              1      1                6   \n",
       "3999       1              0        1              0      0               12   \n",
       "\n",
       "      Group_visits  Age  Avg_additional_charges_total  Month_to_end_contract  \\\n",
       "3995             0   33                          2.41                  12.00   \n",
       "3996             1   29                         68.88                   1.00   \n",
       "3997             0   28                         78.25                  11.00   \n",
       "3998             0   32                         61.91                   5.00   \n",
       "3999             1   30                        178.86                  12.00   \n",
       "\n",
       "      Lifetime  Avg_class_frequency_total  Avg_class_frequency_current_month  \\\n",
       "3995         8                       2.28                               2.35   \n",
       "3996         1                       1.28                               0.29   \n",
       "3997         2                       2.79                               2.83   \n",
       "3998         3                       1.63                               1.60   \n",
       "3999         1                       1.10                               1.04   \n",
       "\n",
       "      Churn  \n",
       "3995      0  \n",
       "3996      1  \n",
       "3997      0  \n",
       "3998      0  \n",
       "3999      0  "
      ]
     },
     "execution_count": 6,
     "metadata": {},
     "output_type": "execute_result"
    }
   ],
   "source": [
    "df.tail()#...и пять последних строк"
   ]
  },
  {
   "cell_type": "markdown",
   "metadata": {},
   "source": [
    "Перед тем, как заняться предобработкой данных, ознакомимся с описанием данных и более детальной информацией о них."
   ]
  },
  {
   "cell_type": "markdown",
   "metadata": {},
   "source": [
    "**Набор данных включает следующие поля:**\n",
    "\n",
    "- 'Churn' — факт оттока в текущем месяце;\n",
    "    \n",
    "**Текущие поля в датасете:**\n",
    "\n",
    "Данные клиента за предыдущий до проверки факта оттока месяц:\n",
    "\n",
    "- 'gender' — пол;\n",
    "- 'Near_Location' — проживание или работа в районе, где находится фитнес-центр;\n",
    "- 'Partner' — сотрудник компании-партнёра клуба (сотрудничество с компаниями, чьи сотрудники могут получать скидки на абонемент — в таком случае фитнес-центр хранит информацию о работодателе клиента);\n",
    "- Promo_friends — факт первоначальной записи в рамках акции «приведи друга» (использовал промо-код от знакомого при оплате первого абонемента);\n",
    "- 'Phone' — наличие контактного телефона;\n",
    "- 'Age' — возраст;\n",
    "- 'Lifetime' — время с момента первого обращения в фитнес-центр (в месяцах).\n",
    "\n",
    "**Информация на основе журнала посещений, покупок и информация о текущем статусе абонемента клиента:**\n",
    "\n",
    "- 'Contract_period' — длительность текущего действующего абонемента (месяц, 3 месяца, 6 месяцев, год);\n",
    "- 'Month_to_end_contract' — срок до окончания текущего действующего абонемента (в месяцах);\n",
    "- 'Group_visits' — факт посещения групповых занятий;\n",
    "- 'Avg_class_frequency_total' — средняя частота посещений в неделю за все время с начала действия абонемента;\n",
    "- 'Avg_class_frequency_current_month' — средняя частота посещений в неделю за предыдущий месяц;\n",
    "- 'Avg_additional_charges_total' — суммарная выручка от других услуг фитнес-центра: кафе, спорт-товары, косметический и массажный салон."
   ]
  },
  {
   "cell_type": "markdown",
   "metadata": {},
   "source": [
    "Ознакомимся с информацией о датасете методом info():"
   ]
  },
  {
   "cell_type": "code",
   "execution_count": 7,
   "metadata": {},
   "outputs": [
    {
     "name": "stdout",
     "output_type": "stream",
     "text": [
      "<class 'pandas.core.frame.DataFrame'>\n",
      "RangeIndex: 4000 entries, 0 to 3999\n",
      "Data columns (total 14 columns):\n",
      " #   Column                             Non-Null Count  Dtype  \n",
      "---  ------                             --------------  -----  \n",
      " 0   gender                             4000 non-null   int64  \n",
      " 1   Near_Location                      4000 non-null   int64  \n",
      " 2   Partner                            4000 non-null   int64  \n",
      " 3   Promo_friends                      4000 non-null   int64  \n",
      " 4   Phone                              4000 non-null   int64  \n",
      " 5   Contract_period                    4000 non-null   int64  \n",
      " 6   Group_visits                       4000 non-null   int64  \n",
      " 7   Age                                4000 non-null   int64  \n",
      " 8   Avg_additional_charges_total       4000 non-null   float64\n",
      " 9   Month_to_end_contract              4000 non-null   float64\n",
      " 10  Lifetime                           4000 non-null   int64  \n",
      " 11  Avg_class_frequency_total          4000 non-null   float64\n",
      " 12  Avg_class_frequency_current_month  4000 non-null   float64\n",
      " 13  Churn                              4000 non-null   int64  \n",
      "dtypes: float64(4), int64(10)\n",
      "memory usage: 437.6 KB\n"
     ]
    }
   ],
   "source": [
    "df.info()"
   ]
  },
  {
   "cell_type": "markdown",
   "metadata": {},
   "source": [
    "Метод info() не продемонстрировал пропусков значений. Перепроверим, на всякий случай, методом isnull():"
   ]
  },
  {
   "cell_type": "code",
   "execution_count": 8,
   "metadata": {},
   "outputs": [
    {
     "data": {
      "text/plain": [
       "gender                               0\n",
       "Near_Location                        0\n",
       "Partner                              0\n",
       "Promo_friends                        0\n",
       "Phone                                0\n",
       "Contract_period                      0\n",
       "Group_visits                         0\n",
       "Age                                  0\n",
       "Avg_additional_charges_total         0\n",
       "Month_to_end_contract                0\n",
       "Lifetime                             0\n",
       "Avg_class_frequency_total            0\n",
       "Avg_class_frequency_current_month    0\n",
       "Churn                                0\n",
       "dtype: int64"
      ]
     },
     "execution_count": 8,
     "metadata": {},
     "output_type": "execute_result"
    }
   ],
   "source": [
    "df.isnull().sum()"
   ]
  },
  {
   "cell_type": "markdown",
   "metadata": {},
   "source": [
    "Проверим таблицу на наличие дубликатов:"
   ]
  },
  {
   "cell_type": "code",
   "execution_count": 9,
   "metadata": {},
   "outputs": [
    {
     "data": {
      "text/plain": [
       "0"
      ]
     },
     "execution_count": 9,
     "metadata": {},
     "output_type": "execute_result"
    }
   ],
   "source": [
    "df.duplicated().sum()"
   ]
  },
  {
   "cell_type": "markdown",
   "metadata": {},
   "source": [
    "Посмотрим ещё раз на названия столбцов"
   ]
  },
  {
   "cell_type": "code",
   "execution_count": 10,
   "metadata": {},
   "outputs": [
    {
     "data": {
      "text/plain": [
       "['gender',\n",
       " 'Near_Location',\n",
       " 'Partner',\n",
       " 'Promo_friends',\n",
       " 'Phone',\n",
       " 'Contract_period',\n",
       " 'Group_visits',\n",
       " 'Age',\n",
       " 'Avg_additional_charges_total',\n",
       " 'Month_to_end_contract',\n",
       " 'Lifetime',\n",
       " 'Avg_class_frequency_total',\n",
       " 'Avg_class_frequency_current_month',\n",
       " 'Churn']"
      ]
     },
     "execution_count": 10,
     "metadata": {},
     "output_type": "execute_result"
    }
   ],
   "source": [
    "df.columns.tolist()"
   ]
  },
  {
   "cell_type": "markdown",
   "metadata": {},
   "source": [
    "Для удобства дальнейшей работы переведём названия столбцов в нижний регистр."
   ]
  },
  {
   "cell_type": "code",
   "execution_count": 11,
   "metadata": {},
   "outputs": [],
   "source": [
    "df.columns = [i.lower() for i in df]"
   ]
  },
  {
   "cell_type": "code",
   "execution_count": 12,
   "metadata": {},
   "outputs": [
    {
     "data": {
      "text/plain": [
       "['gender',\n",
       " 'near_location',\n",
       " 'partner',\n",
       " 'promo_friends',\n",
       " 'phone',\n",
       " 'contract_period',\n",
       " 'group_visits',\n",
       " 'age',\n",
       " 'avg_additional_charges_total',\n",
       " 'month_to_end_contract',\n",
       " 'lifetime',\n",
       " 'avg_class_frequency_total',\n",
       " 'avg_class_frequency_current_month',\n",
       " 'churn']"
      ]
     },
     "execution_count": 12,
     "metadata": {},
     "output_type": "execute_result"
    }
   ],
   "source": [
    "df.columns.tolist()"
   ]
  },
  {
   "cell_type": "code",
   "execution_count": 13,
   "metadata": {},
   "outputs": [
    {
     "data": {
      "text/plain": [
       "(4000, 14)"
      ]
     },
     "execution_count": 13,
     "metadata": {},
     "output_type": "execute_result"
    }
   ],
   "source": [
    "df.shape"
   ]
  },
  {
   "cell_type": "markdown",
   "metadata": {},
   "source": [
    "Итого, в представленной таблице:\n",
    "- 14 колонок с 4000 наблюдений;\n",
    "- типы данных столбцов представленной таблицы соответствуют содержащимся в них данным (многие праматеры могут быть булевыми, но для удобства дальнейших рассчётов оставим их целочисленными);\n",
    "- пропуски значений в таблице не обнаружены;\n",
    "- дубликаты не обнаружены;\n",
    "- названия столбцов адекватно отображают своё содержимое - для удобства дальнейшей работы с ними переведены в нижний регистр.\n",
    "- в дальнейшей работе будем исходить из предположения о том, что: \n",
    "    - в столбце gender 0 == женщина, 1 == мужчина;\n",
    "    - во всех остальных ситуациях с бинарным распределением будем исходить из того, что 0 подразумевает False, а 1 - True.\n",
    "\n",
    "Предварительный вывод: на этапе загрузки и предобработки данных не обнаружено сдерживающих факторов, препятствующих дальнейшей работе с таблицей."
   ]
  },
  {
   "cell_type": "markdown",
   "metadata": {},
   "source": [
    "---"
   ]
  },
  {
   "cell_type": "markdown",
   "metadata": {},
   "source": [
    "[К содержанию](#content)"
   ]
  },
  {
   "cell_type": "markdown",
   "metadata": {},
   "source": [
    "[Шаг №2. Проведение исследовательского анализа данных (EDA)](#analys) \n",
    "<a id='analys'></a>"
   ]
  },
  {
   "cell_type": "markdown",
   "metadata": {},
   "source": [
    "1. [Посмотреть на датасет: есть ли в нем отсутствующие признаки, изучить средние значения и стандартные отклонения (пригодится метод describe()).](#analys1)\n",
    "<a id='analys1'></a>"
   ]
  },
  {
   "cell_type": "code",
   "execution_count": 14,
   "metadata": {},
   "outputs": [
    {
     "data": {
      "text/html": [
       "<div>\n",
       "<style scoped>\n",
       "    .dataframe tbody tr th:only-of-type {\n",
       "        vertical-align: middle;\n",
       "    }\n",
       "\n",
       "    .dataframe tbody tr th {\n",
       "        vertical-align: top;\n",
       "    }\n",
       "\n",
       "    .dataframe thead th {\n",
       "        text-align: right;\n",
       "    }\n",
       "</style>\n",
       "<table border=\"1\" class=\"dataframe\">\n",
       "  <thead>\n",
       "    <tr style=\"text-align: right;\">\n",
       "      <th></th>\n",
       "      <th>gender</th>\n",
       "      <th>near_location</th>\n",
       "      <th>partner</th>\n",
       "      <th>promo_friends</th>\n",
       "      <th>phone</th>\n",
       "      <th>contract_period</th>\n",
       "      <th>group_visits</th>\n",
       "      <th>age</th>\n",
       "      <th>avg_additional_charges_total</th>\n",
       "      <th>month_to_end_contract</th>\n",
       "      <th>lifetime</th>\n",
       "      <th>avg_class_frequency_total</th>\n",
       "      <th>avg_class_frequency_current_month</th>\n",
       "      <th>churn</th>\n",
       "    </tr>\n",
       "  </thead>\n",
       "  <tbody>\n",
       "    <tr>\n",
       "      <th>count</th>\n",
       "      <td>4,000.00</td>\n",
       "      <td>4,000.00</td>\n",
       "      <td>4,000.00</td>\n",
       "      <td>4,000.00</td>\n",
       "      <td>4,000.00</td>\n",
       "      <td>4,000.00</td>\n",
       "      <td>4,000.00</td>\n",
       "      <td>4,000.00</td>\n",
       "      <td>4,000.00</td>\n",
       "      <td>4,000.00</td>\n",
       "      <td>4,000.00</td>\n",
       "      <td>4,000.00</td>\n",
       "      <td>4,000.00</td>\n",
       "      <td>4,000.00</td>\n",
       "    </tr>\n",
       "    <tr>\n",
       "      <th>mean</th>\n",
       "      <td>0.51</td>\n",
       "      <td>0.85</td>\n",
       "      <td>0.49</td>\n",
       "      <td>0.31</td>\n",
       "      <td>0.90</td>\n",
       "      <td>4.68</td>\n",
       "      <td>0.41</td>\n",
       "      <td>29.18</td>\n",
       "      <td>146.94</td>\n",
       "      <td>4.32</td>\n",
       "      <td>3.72</td>\n",
       "      <td>1.88</td>\n",
       "      <td>1.77</td>\n",
       "      <td>0.27</td>\n",
       "    </tr>\n",
       "    <tr>\n",
       "      <th>std</th>\n",
       "      <td>0.50</td>\n",
       "      <td>0.36</td>\n",
       "      <td>0.50</td>\n",
       "      <td>0.46</td>\n",
       "      <td>0.30</td>\n",
       "      <td>4.55</td>\n",
       "      <td>0.49</td>\n",
       "      <td>3.26</td>\n",
       "      <td>96.36</td>\n",
       "      <td>4.19</td>\n",
       "      <td>3.75</td>\n",
       "      <td>0.97</td>\n",
       "      <td>1.05</td>\n",
       "      <td>0.44</td>\n",
       "    </tr>\n",
       "    <tr>\n",
       "      <th>min</th>\n",
       "      <td>0.00</td>\n",
       "      <td>0.00</td>\n",
       "      <td>0.00</td>\n",
       "      <td>0.00</td>\n",
       "      <td>0.00</td>\n",
       "      <td>1.00</td>\n",
       "      <td>0.00</td>\n",
       "      <td>18.00</td>\n",
       "      <td>0.15</td>\n",
       "      <td>1.00</td>\n",
       "      <td>0.00</td>\n",
       "      <td>0.00</td>\n",
       "      <td>0.00</td>\n",
       "      <td>0.00</td>\n",
       "    </tr>\n",
       "    <tr>\n",
       "      <th>25%</th>\n",
       "      <td>0.00</td>\n",
       "      <td>1.00</td>\n",
       "      <td>0.00</td>\n",
       "      <td>0.00</td>\n",
       "      <td>1.00</td>\n",
       "      <td>1.00</td>\n",
       "      <td>0.00</td>\n",
       "      <td>27.00</td>\n",
       "      <td>68.87</td>\n",
       "      <td>1.00</td>\n",
       "      <td>1.00</td>\n",
       "      <td>1.18</td>\n",
       "      <td>0.96</td>\n",
       "      <td>0.00</td>\n",
       "    </tr>\n",
       "    <tr>\n",
       "      <th>50%</th>\n",
       "      <td>1.00</td>\n",
       "      <td>1.00</td>\n",
       "      <td>0.00</td>\n",
       "      <td>0.00</td>\n",
       "      <td>1.00</td>\n",
       "      <td>1.00</td>\n",
       "      <td>0.00</td>\n",
       "      <td>29.00</td>\n",
       "      <td>136.22</td>\n",
       "      <td>1.00</td>\n",
       "      <td>3.00</td>\n",
       "      <td>1.83</td>\n",
       "      <td>1.72</td>\n",
       "      <td>0.00</td>\n",
       "    </tr>\n",
       "    <tr>\n",
       "      <th>75%</th>\n",
       "      <td>1.00</td>\n",
       "      <td>1.00</td>\n",
       "      <td>1.00</td>\n",
       "      <td>1.00</td>\n",
       "      <td>1.00</td>\n",
       "      <td>6.00</td>\n",
       "      <td>1.00</td>\n",
       "      <td>31.00</td>\n",
       "      <td>210.95</td>\n",
       "      <td>6.00</td>\n",
       "      <td>5.00</td>\n",
       "      <td>2.54</td>\n",
       "      <td>2.51</td>\n",
       "      <td>1.00</td>\n",
       "    </tr>\n",
       "    <tr>\n",
       "      <th>max</th>\n",
       "      <td>1.00</td>\n",
       "      <td>1.00</td>\n",
       "      <td>1.00</td>\n",
       "      <td>1.00</td>\n",
       "      <td>1.00</td>\n",
       "      <td>12.00</td>\n",
       "      <td>1.00</td>\n",
       "      <td>41.00</td>\n",
       "      <td>552.59</td>\n",
       "      <td>12.00</td>\n",
       "      <td>31.00</td>\n",
       "      <td>6.02</td>\n",
       "      <td>6.15</td>\n",
       "      <td>1.00</td>\n",
       "    </tr>\n",
       "  </tbody>\n",
       "</table>\n",
       "</div>"
      ],
      "text/plain": [
       "        gender  near_location  partner  promo_friends    phone  \\\n",
       "count 4,000.00       4,000.00 4,000.00       4,000.00 4,000.00   \n",
       "mean      0.51           0.85     0.49           0.31     0.90   \n",
       "std       0.50           0.36     0.50           0.46     0.30   \n",
       "min       0.00           0.00     0.00           0.00     0.00   \n",
       "25%       0.00           1.00     0.00           0.00     1.00   \n",
       "50%       1.00           1.00     0.00           0.00     1.00   \n",
       "75%       1.00           1.00     1.00           1.00     1.00   \n",
       "max       1.00           1.00     1.00           1.00     1.00   \n",
       "\n",
       "       contract_period  group_visits      age  avg_additional_charges_total  \\\n",
       "count         4,000.00      4,000.00 4,000.00                      4,000.00   \n",
       "mean              4.68          0.41    29.18                        146.94   \n",
       "std               4.55          0.49     3.26                         96.36   \n",
       "min               1.00          0.00    18.00                          0.15   \n",
       "25%               1.00          0.00    27.00                         68.87   \n",
       "50%               1.00          0.00    29.00                        136.22   \n",
       "75%               6.00          1.00    31.00                        210.95   \n",
       "max              12.00          1.00    41.00                        552.59   \n",
       "\n",
       "       month_to_end_contract  lifetime  avg_class_frequency_total  \\\n",
       "count               4,000.00  4,000.00                   4,000.00   \n",
       "mean                    4.32      3.72                       1.88   \n",
       "std                     4.19      3.75                       0.97   \n",
       "min                     1.00      0.00                       0.00   \n",
       "25%                     1.00      1.00                       1.18   \n",
       "50%                     1.00      3.00                       1.83   \n",
       "75%                     6.00      5.00                       2.54   \n",
       "max                    12.00     31.00                       6.02   \n",
       "\n",
       "       avg_class_frequency_current_month    churn  \n",
       "count                           4,000.00 4,000.00  \n",
       "mean                                1.77     0.27  \n",
       "std                                 1.05     0.44  \n",
       "min                                 0.00     0.00  \n",
       "25%                                 0.96     0.00  \n",
       "50%                                 1.72     0.00  \n",
       "75%                                 2.51     1.00  \n",
       "max                                 6.15     1.00  "
      ]
     },
     "execution_count": 14,
     "metadata": {},
     "output_type": "execute_result"
    }
   ],
   "source": [
    "df.describe()"
   ]
  },
  {
   "cell_type": "markdown",
   "metadata": {},
   "source": [
    "Ещё раз вспомним обозначения столбцов:\n",
    "\n",
    "**Набор данных включает следующие поля:**\n",
    "\n",
    "- 'Churn' — факт оттока в текущем месяце;\n",
    "    \n",
    "**Текущие поля в датасете:**\n",
    "\n",
    "Данные клиента за предыдущий до проверки факта оттока месяц:\n",
    "\n",
    "- 'gender' — пол;\n",
    "- 'Near_Location' — проживание или работа в районе, где находится фитнес-центр;\n",
    "- 'Partner' — сотрудник компании-партнёра клуба (сотрудничество с компаниями, чьи сотрудники могут получать скидки на абонемент — в таком случае фитнес-центр хранит информацию о работодателе клиента);\n",
    "- Promo_friends — факт первоначальной записи в рамках акции «приведи друга» (использовал промо-код от знакомого при оплате первого абонемента);\n",
    "- 'Phone' — наличие контактного телефона;\n",
    "- 'Age' — возраст;\n",
    "- 'Lifetime' — время с момента первого обращения в фитнес-центр (в месяцах).\n",
    "\n",
    "**Информация на основе журнала посещений, покупок и информация о текущем статусе абонемента клиента:**\n",
    "\n",
    "- 'Contract_period' — длительность текущего действующего абонемента (месяц, 3 месяца, 6 месяцев, год);\n",
    "- 'Month_to_end_contract' — срок до окончания текущего действующего абонемента (в месяцах);\n",
    "- 'Group_visits' — факт посещения групповых занятий;\n",
    "- 'Avg_class_frequency_total' — средняя частота посещений в неделю за все время с начала действия абонемента;\n",
    "- 'Avg_class_frequency_current_month' — средняя частота посещений в неделю за предыдущий месяц;\n",
    "- 'Avg_additional_charges_total' — суммарная выручка от других услуг фитнес-центра: кафе, спорт-товары, косметический и массажный салон."
   ]
  },
  {
   "cell_type": "markdown",
   "metadata": {},
   "source": [
    "Предварительный вывод: в среднем сеть фитнес-центров посещает примерно равное число мужчин и женщин. Средний возраст посетителей 29 лет (разброс от 18 лет до 41 года). Если исходить из того, что в бинарном распределении среднее значение равное единице составит 100 %, то средний отток в текущей таблице составляет 27 %. "
   ]
  },
  {
   "cell_type": "markdown",
   "metadata": {},
   "source": [
    "[К содержанию](#content)"
   ]
  },
  {
   "cell_type": "markdown",
   "metadata": {},
   "source": [
    "2. [Посмотреть на средние значения признаков в двух группах — тех, кто ушел в отток и тех, кто остался (воспользоваться методом groupby()).](#analys2)\n",
    "<a id='analys2'></a>"
   ]
  },
  {
   "cell_type": "code",
   "execution_count": 15,
   "metadata": {},
   "outputs": [
    {
     "data": {
      "text/html": [
       "<div>\n",
       "<style scoped>\n",
       "    .dataframe tbody tr th:only-of-type {\n",
       "        vertical-align: middle;\n",
       "    }\n",
       "\n",
       "    .dataframe tbody tr th {\n",
       "        vertical-align: top;\n",
       "    }\n",
       "\n",
       "    .dataframe thead th {\n",
       "        text-align: right;\n",
       "    }\n",
       "</style>\n",
       "<table border=\"1\" class=\"dataframe\">\n",
       "  <thead>\n",
       "    <tr style=\"text-align: right;\">\n",
       "      <th>churn</th>\n",
       "      <th>0</th>\n",
       "      <th>1</th>\n",
       "    </tr>\n",
       "    <tr>\n",
       "      <th>level_0</th>\n",
       "      <th></th>\n",
       "      <th></th>\n",
       "    </tr>\n",
       "  </thead>\n",
       "  <tbody>\n",
       "    <tr>\n",
       "      <th>gender</th>\n",
       "      <td>0.51</td>\n",
       "      <td>0.51</td>\n",
       "    </tr>\n",
       "    <tr>\n",
       "      <th>near_location</th>\n",
       "      <td>0.87</td>\n",
       "      <td>0.77</td>\n",
       "    </tr>\n",
       "    <tr>\n",
       "      <th>partner</th>\n",
       "      <td>0.53</td>\n",
       "      <td>0.36</td>\n",
       "    </tr>\n",
       "    <tr>\n",
       "      <th>promo_friends</th>\n",
       "      <td>0.35</td>\n",
       "      <td>0.18</td>\n",
       "    </tr>\n",
       "    <tr>\n",
       "      <th>phone</th>\n",
       "      <td>0.90</td>\n",
       "      <td>0.90</td>\n",
       "    </tr>\n",
       "    <tr>\n",
       "      <th>contract_period</th>\n",
       "      <td>5.75</td>\n",
       "      <td>1.73</td>\n",
       "    </tr>\n",
       "    <tr>\n",
       "      <th>group_visits</th>\n",
       "      <td>0.46</td>\n",
       "      <td>0.27</td>\n",
       "    </tr>\n",
       "    <tr>\n",
       "      <th>age</th>\n",
       "      <td>29.98</td>\n",
       "      <td>26.99</td>\n",
       "    </tr>\n",
       "    <tr>\n",
       "      <th>avg_additional_charges_total</th>\n",
       "      <td>158.45</td>\n",
       "      <td>115.08</td>\n",
       "    </tr>\n",
       "    <tr>\n",
       "      <th>month_to_end_contract</th>\n",
       "      <td>5.28</td>\n",
       "      <td>1.66</td>\n",
       "    </tr>\n",
       "    <tr>\n",
       "      <th>lifetime</th>\n",
       "      <td>4.71</td>\n",
       "      <td>0.99</td>\n",
       "    </tr>\n",
       "    <tr>\n",
       "      <th>avg_class_frequency_total</th>\n",
       "      <td>2.02</td>\n",
       "      <td>1.47</td>\n",
       "    </tr>\n",
       "    <tr>\n",
       "      <th>avg_class_frequency_current_month</th>\n",
       "      <td>2.03</td>\n",
       "      <td>1.04</td>\n",
       "    </tr>\n",
       "  </tbody>\n",
       "</table>\n",
       "</div>"
      ],
      "text/plain": [
       "churn                                  0      1\n",
       "level_0                                        \n",
       "gender                              0.51   0.51\n",
       "near_location                       0.87   0.77\n",
       "partner                             0.53   0.36\n",
       "promo_friends                       0.35   0.18\n",
       "phone                               0.90   0.90\n",
       "contract_period                     5.75   1.73\n",
       "group_visits                        0.46   0.27\n",
       "age                                29.98  26.99\n",
       "avg_additional_charges_total      158.45 115.08\n",
       "month_to_end_contract               5.28   1.66\n",
       "lifetime                            4.71   0.99\n",
       "avg_class_frequency_total           2.02   1.47\n",
       "avg_class_frequency_current_month   2.03   1.04"
      ]
     },
     "execution_count": 15,
     "metadata": {},
     "output_type": "execute_result"
    }
   ],
   "source": [
    "df.groupby('churn').describe().T.reset_index().query('level_1 == \"mean\"')\\\n",
    ".set_index('level_0').drop(['level_1'], axis = 1)"
   ]
  },
  {
   "cell_type": "markdown",
   "metadata": {},
   "source": [
    "Как видим, средние значения признаков у ушедших и оставшихся не отличаются принципиально. \n",
    "Есть, однако, ряд отличий, которые стоило бы упомянуть. Портрет среднестатистического \"уходящего\": покидает тренировки в первый месяц, посещает фитнес-центр нерегулярно (1, реже 2 раза в неделю), абонемент приобретает на месяц или три месяца. С меньшим энтузиазмом от \"оставшихся\" тратится на другие услуги фитнес-центра: кафе, спорт-товары, косметический и массажный салон."
   ]
  },
  {
   "cell_type": "markdown",
   "metadata": {},
   "source": [
    "[К содержанию](#content)"
   ]
  },
  {
   "cell_type": "markdown",
   "metadata": {},
   "source": [
    "3. [Построить столбчатые гистограммы и распределения признаков для тех, кто ушёл (отток) и тех, кто остался (не попали в отток)](#analys3)\n",
    "<a id='analys3'></a>"
   ]
  },
  {
   "cell_type": "code",
   "execution_count": 16,
   "metadata": {
    "scrolled": true
   },
   "outputs": [
    {
     "data": {
      "image/png": "[encoded data removed]",
      "text/plain": [
       "<Figure size 360x360 with 1 Axes>"
      ]
     },
     "metadata": {
      "needs_background": "light"
     },
     "output_type": "display_data"
    },
    {
     "data": {
      "image/png": "[encoded data removed]",
      "text/plain": [
       "<Figure size 360x360 with 1 Axes>"
      ]
     },
     "metadata": {
      "needs_background": "light"
     },
     "output_type": "display_data"
    },
    {
     "data": {
      "image/png": "[encoded data removed]",
      "text/plain": [
       "<Figure size 360x360 with 1 Axes>"
      ]
     },
     "metadata": {
      "needs_background": "light"
     },
     "output_type": "display_data"
    },
    {
     "data": {
      "image/png": "[encoded data removed]",
      "text/plain": [
       "<Figure size 360x360 with 1 Axes>"
      ]
     },
     "metadata": {
      "needs_background": "light"
     },
     "output_type": "display_data"
    },
    {
     "data": {
      "image/png": "[encoded data removed]",
      "text/plain": [
       "<Figure size 360x360 with 1 Axes>"
      ]
     },
     "metadata": {
      "needs_background": "light"
     },
     "output_type": "display_data"
    },
    {
     "data": {
      "image/png": "[encoded data removed]",
      "text/plain": [
       "<Figure size 360x360 with 1 Axes>"
      ]
     },
     "metadata": {
      "needs_background": "light"
     },
     "output_type": "display_data"
    },
    {
     "data": {
      "image/png": "[encoded data removed]",
      "text/plain": [
       "<Figure size 360x360 with 1 Axes>"
      ]
     },
     "metadata": {
      "needs_background": "light"
     },
     "output_type": "display_data"
    },
    {
     "data": {
      "image/png": "[encoded data removed]",
      "text/plain": [
       "<Figure size 360x360 with 1 Axes>"
      ]
     },
     "metadata": {
      "needs_background": "light"
     },
     "output_type": "display_data"
    },
    {
     "data": {
      "image/png": "[encoded data removed]",
      "text/plain": [
       "<Figure size 360x360 with 1 Axes>"
      ]
     },
     "metadata": {
      "needs_background": "light"
     },
     "output_type": "display_data"
    },
    {
     "data": {
      "image/png": "[encoded data removed]",
      "text/plain": [
       "<Figure size 360x360 with 1 Axes>"
      ]
     },
     "metadata": {
      "needs_background": "light"
     },
     "output_type": "display_data"
    }
   ],
   "source": [
    "for column in ['gender',\n",
    " 'near_location',\n",
    " 'partner',\n",
    " 'promo_friends',\n",
    " 'phone',\n",
    " 'contract_period',\n",
    " 'group_visits',\n",
    " 'age','month_to_end_contract',\n",
    " 'lifetime']:\n",
    "    plt.figure(figsize=(5, 5))\n",
    "    sns.countplot(x = df[column], hue='churn', data=df)\n",
    "    plt.title(column)\n",
    "    plt.show()"
   ]
  },
  {
   "cell_type": "markdown",
   "metadata": {},
   "source": [
    "Как правило доля ушедших при отсутствии признака (не посещали группы, живут не рядом с клубом, не сотрудники компаний-партнёров и т.д.) почти в 2 раза выше, чем при наличии признака.\n",
    "Доля оттока по признакам наличия телефона в базе и половой принадлежности существенных отличий от доли оставшихся не имеет."
   ]
  },
  {
   "cell_type": "code",
   "execution_count": 17,
   "metadata": {},
   "outputs": [
    {
     "data": {
      "image/png": "[encoded data removed]",
      "text/plain": [
       "<Figure size 360x360 with 1 Axes>"
      ]
     },
     "metadata": {
      "needs_background": "light"
     },
     "output_type": "display_data"
    },
    {
     "data": {
      "image/png": "[encoded data removed]",
      "text/plain": [
       "<Figure size 360x360 with 1 Axes>"
      ]
     },
     "metadata": {
      "needs_background": "light"
     },
     "output_type": "display_data"
    },
    {
     "data": {
      "image/png": "[encoded data removed]",
      "text/plain": [
       "<Figure size 360x360 with 1 Axes>"
      ]
     },
     "metadata": {
      "needs_background": "light"
     },
     "output_type": "display_data"
    },
    {
     "data": {
      "image/png": "[encoded data removed]",
      "text/plain": [
       "<Figure size 360x360 with 1 Axes>"
      ]
     },
     "metadata": {
      "needs_background": "light"
     },
     "output_type": "display_data"
    },
    {
     "data": {
      "image/png": "[encoded data removed]",
      "text/plain": [
       "<Figure size 360x360 with 1 Axes>"
      ]
     },
     "metadata": {
      "needs_background": "light"
     },
     "output_type": "display_data"
    },
    {
     "data": {
      "image/png": "[encoded data removed]",
      "text/plain": [
       "<Figure size 360x360 with 1 Axes>"
      ]
     },
     "metadata": {
      "needs_background": "light"
     },
     "output_type": "display_data"
    }
   ],
   "source": [
    "for column in ['month_to_end_contract', \n",
    "               'age', \n",
    "               'avg_additional_charges_total', \n",
    "               'lifetime', \n",
    "               'avg_class_frequency_total', \n",
    "               'avg_class_frequency_current_month']:\n",
    "    plt.figure(figsize=(5, 5))\n",
    "    sns.boxplot(x = 'churn', y = df[column], data = df)\n",
    "    plt.title(column)\n",
    "    plt.show()"
   ]
  },
  {
   "cell_type": "markdown",
   "metadata": {},
   "source": [
    "По количественным признакам оставшиеся имеют более высокие средние показатели и больший разброс в сторону увеличения значения признака."
   ]
  },
  {
   "cell_type": "markdown",
   "metadata": {},
   "source": [
    "[К содержанию](#content)"
   ]
  },
  {
   "cell_type": "markdown",
   "metadata": {},
   "source": [
    "4. [Построить матрицу корреляций и отобразить её](#analys4)\n",
    "<a id='analys4'></a>"
   ]
  },
  {
   "cell_type": "code",
   "execution_count": 18,
   "metadata": {
    "scrolled": true
   },
   "outputs": [
    {
     "data": {
      "image/png": "[encoded data removed]",
      "text/plain": [
       "<Figure size 1008x720 with 2 Axes>"
      ]
     },
     "metadata": {
      "needs_background": "light"
     },
     "output_type": "display_data"
    }
   ],
   "source": [
    "cm = df.corr()\n",
    "plt.figure(figsize=(14, 10))\n",
    "sns.heatmap(cm, annot = True, fmt = '0.2f', linewidths=.5, cmap=\"coolwarm\")\n",
    "plt.show()"
   ]
  },
  {
   "cell_type": "markdown",
   "metadata": {},
   "source": [
    "Как уже было замечено выше, на отток влияют срок действия абонемента, частота посещений тренировок в неделю.Признаки с нулевой корреляцией с целевой переменной - пол и наличие контактного телефона , как и было замечено ранее."
   ]
  },
  {
   "cell_type": "markdown",
   "metadata": {},
   "source": [
    "[К содержанию](#content)"
   ]
  },
  {
   "cell_type": "markdown",
   "metadata": {},
   "source": [
    "[Шаг №3. Построить модель прогнозирования оттока клиентов](#prognos)\n",
    "<a id='prognos'></a>"
   ]
  },
  {
   "cell_type": "markdown",
   "metadata": {},
   "source": [
    "1. [Разбить данные на обучающую и валидационную выборку функцией train_test_split()](#prognos1)\n",
    "<a id='prognos1'></a>"
   ]
  },
  {
   "cell_type": "code",
   "execution_count": 19,
   "metadata": {},
   "outputs": [],
   "source": [
    "# разделим наши данные на признаки (матрица X) и целевую переменную (y)\n",
    "X = df.drop('churn', axis = 1)\n",
    "y = df['churn']"
   ]
  },
  {
   "cell_type": "code",
   "execution_count": 20,
   "metadata": {},
   "outputs": [],
   "source": [
    "# разделим модель на обучающую и валидационную выборку\n",
    "X_train, X_test, y_train, y_test = train_test_split(X, y, test_size=0.2, random_state=0)"
   ]
  },
  {
   "cell_type": "markdown",
   "metadata": {},
   "source": [
    "2. [Обучить модель на train-выборке двумя способами:](#prognos2)\n",
    "<a id='prognos2'></a>"
   ]
  },
  {
   "cell_type": "markdown",
   "metadata": {},
   "source": [
    "- логистической регрессией\n",
    "- случайным лесом"
   ]
  },
  {
   "cell_type": "markdown",
   "metadata": {},
   "source": [
    "#### Логистическая регрессия"
   ]
  },
  {
   "cell_type": "code",
   "execution_count": 21,
   "metadata": {},
   "outputs": [],
   "source": [
    "#Воспользуемся алгоритмом для решения задачи бинарной классификации - логистическая регрессия.\n",
    "model = LogisticRegression(solver='liblinear') #Отключим уведомления о будущем изменении солвера  "
   ]
  },
  {
   "cell_type": "code",
   "execution_count": 22,
   "metadata": {},
   "outputs": [
    {
     "data": {
      "text/plain": [
       "LogisticRegression(solver='liblinear')"
      ]
     },
     "execution_count": 22,
     "metadata": {},
     "output_type": "execute_result"
    }
   ],
   "source": [
    "#Обучим модель\n",
    "model.fit(X_train, y_train)"
   ]
  },
  {
   "cell_type": "code",
   "execution_count": 23,
   "metadata": {},
   "outputs": [],
   "source": [
    "# воспользуемся уже обученной моделью, чтобы сделать прогнозы\n",
    "predictions = model.predict(X_test)\n",
    "probabilities =  model.predict_proba(X_test)[:,1]"
   ]
  },
  {
   "cell_type": "code",
   "execution_count": 24,
   "metadata": {},
   "outputs": [
    {
     "name": "stdout",
     "output_type": "stream",
     "text": [
      "Accuracy: 0.93\n",
      "Precision: 0.86\n",
      "Recall: 0.83\n"
     ]
    }
   ],
   "source": [
    "print('Accuracy: {:.2f}'.format(accuracy_score(y_test, predictions)))\n",
    "print('Precision: {:.2f}'.format(precision_score(y_test, predictions)))\n",
    "print('Recall: {:.2f}'.format(recall_score(y_test, predictions)))"
   ]
  },
  {
   "cell_type": "markdown",
   "metadata": {},
   "source": [
    "Доля верно угаданных ответов из всех прогнозов 93%. Однако, следует учесть, что балланс классов отсутствует, а значит, в прогнозах могут закрадываться ошибки. Согласно метрике точности (Precision), верность доли оттока составляет 86%. Метрика полноты (Recall) сообщает нам о том, что мы обнаружили 83% реальных объектов оттока."
   ]
  },
  {
   "cell_type": "markdown",
   "metadata": {},
   "source": [
    "#### Случайный лес"
   ]
  },
  {
   "cell_type": "code",
   "execution_count": 25,
   "metadata": {},
   "outputs": [
    {
     "data": {
      "text/plain": [
       "StandardScaler()"
      ]
     },
     "execution_count": 25,
     "metadata": {},
     "output_type": "execute_result"
    }
   ],
   "source": [
    "# обучение StandartScaler на обучающей выборке\n",
    "scaler = StandardScaler()\n",
    "scaler.fit(X_train)"
   ]
  },
  {
   "cell_type": "code",
   "execution_count": 26,
   "metadata": {},
   "outputs": [],
   "source": [
    "# Преобразование обучающего и валидационного набора данных\n",
    "X_train_st = scaler.transform(X_train)\n",
    "X_test_st = scaler.transform(X_test)"
   ]
  },
  {
   "cell_type": "code",
   "execution_count": 27,
   "metadata": {},
   "outputs": [],
   "source": [
    "# зададим алгоритм для модели логистической регрессии\n",
    "rf_model = RandomForestClassifier(n_estimators = 100, random_state = 0)"
   ]
  },
  {
   "cell_type": "code",
   "execution_count": 28,
   "metadata": {},
   "outputs": [
    {
     "data": {
      "text/plain": [
       "RandomForestClassifier(random_state=0)"
      ]
     },
     "execution_count": 28,
     "metadata": {},
     "output_type": "execute_result"
    }
   ],
   "source": [
    "# обучим модель\n",
    "rf_model.fit(X_train_st, y_train)"
   ]
  },
  {
   "cell_type": "code",
   "execution_count": 29,
   "metadata": {},
   "outputs": [],
   "source": [
    "# воспользуемся уже обученной моделью, чтобы сделать прогнозы\n",
    "rf_predictions = rf_model.predict(X_test_st) \n",
    "rf_probabilities = rf_model.predict_proba(X_test_st)[:,1]"
   ]
  },
  {
   "cell_type": "code",
   "execution_count": 30,
   "metadata": {},
   "outputs": [
    {
     "name": "stdout",
     "output_type": "stream",
     "text": [
      "Accuracy: 0.92\n",
      "Precision: 0.84\n",
      "Recall: 0.81\n"
     ]
    }
   ],
   "source": [
    "# выведем все метрики\n",
    "print('Accuracy: {:.2f}'.format(accuracy_score(y_test, rf_predictions)))\n",
    "print('Precision: {:.2f}'.format(precision_score(y_test, rf_predictions)))\n",
    "print('Recall: {:.2f}'.format(recall_score(y_test, rf_predictions)))"
   ]
  },
  {
   "cell_type": "markdown",
   "metadata": {},
   "source": [
    "Доля верно угаданных ответов из всех прогнозов 92%. Однако, следует учесть, что балланс классов отсутствует, а значит, в прогнозах могут закрадываться ошибки. Согласно метрике точности (Precision), верность доли оттока составляет 84%. Метрика полноты (Recall) сообщает нам о том, что мы обнаружили 81% реальных объектов оттока."
   ]
  },
  {
   "cell_type": "markdown",
   "metadata": {},
   "source": [
    "[К содержанию](#content)"
   ]
  },
  {
   "cell_type": "markdown",
   "metadata": {},
   "source": [
    "3. [Оценить метрики accuracy, precision и recall для обеих моделей на валидационной выборке. Сравнить по ним модели. Какая модель показала себя лучше на основании метрик?](#prognos3)\n",
    "<a id='prognos3'></a>"
   ]
  },
  {
   "cell_type": "markdown",
   "metadata": {},
   "source": [
    "Разница в метриках логистической регрессии и случайного леса составляет 1-2% в пользу логистической регрессии."
   ]
  },
  {
   "cell_type": "markdown",
   "metadata": {},
   "source": [
    "[К содержанию](#content)"
   ]
  },
  {
   "cell_type": "markdown",
   "metadata": {},
   "source": [
    "[Шаг №4. Сделать кластеризацию клиентов](#claster)\n",
    "<a id='claster'></a>"
   ]
  },
  {
   "cell_type": "markdown",
   "metadata": {},
   "source": [
    "1. [Стандартизировать данные.](#claster1)\n",
    "<a id='claster1'></a>"
   ]
  },
  {
   "cell_type": "code",
   "execution_count": 31,
   "metadata": {},
   "outputs": [],
   "source": [
    "# обязательная стандартизация данных перед работой с алгоритмами\n",
    "df_sс = df.drop(['churn'], axis=1)\n",
    "df_columns_list = df_sс.columns\n",
    "df_sс = StandardScaler().fit_transform(df_sс)\n",
    "df_sс = pd.DataFrame(df_sс, columns = df_columns_list).astype('float64')"
   ]
  },
  {
   "cell_type": "markdown",
   "metadata": {},
   "source": [
    "[К содержанию](#content)"
   ]
  },
  {
   "cell_type": "markdown",
   "metadata": {},
   "source": [
    "2. [Построить матрицу расстояний функцией linkage() на стандартизованной матрице признаков и нарисовать дендрограмму. Внимание: отрисовка дендрограммы может занять время! На основании полученного графика предположить, какое количество кластеров можно выделить.](#claster2)\n",
    "<a id='claster2'></a>"
   ]
  },
  {
   "cell_type": "code",
   "execution_count": 32,
   "metadata": {},
   "outputs": [],
   "source": [
    "linked = linkage(df_sс, method = 'ward')"
   ]
  },
  {
   "cell_type": "code",
   "execution_count": 33,
   "metadata": {},
   "outputs": [
    {
     "data": {
      "image/png": "[encoded data removed]",
      "text/plain": [
       "<Figure size 1080x720 with 1 Axes>"
      ]
     },
     "metadata": {
      "needs_background": "light"
     },
     "output_type": "display_data"
    }
   ],
   "source": [
    "plt.figure(figsize=(15, 10))  \n",
    "dendrogram(linked, orientation='top')\n",
    "plt.title('Иерархическая кластеризация')\n",
    "plt.show() "
   ]
  },
  {
   "cell_type": "markdown",
   "metadata": {},
   "source": [
    "[К содержанию](#content)"
   ]
  },
  {
   "cell_type": "markdown",
   "metadata": {},
   "source": [
    "3. [Обучить модель кластеризации на основании алгоритма K-Means и спрогнозировать кластеры клиентов. Договоримся за число кластеров принять n=5.](#claster3)\n",
    "<a id='claster3'></a>"
   ]
  },
  {
   "cell_type": "code",
   "execution_count": 34,
   "metadata": {},
   "outputs": [],
   "source": [
    "# задаём число кластеров, равное 5\n",
    "km = KMeans(n_clusters = 5, random_state= 0)\n",
    "\n",
    "# применяем алгоритм к данным и формируем вектор кластеров \n",
    "labels = km.fit_predict(df_sс)\n",
    "\n",
    "#формируем новую колонку в датасете\n",
    "df['cluster'] = labels"
   ]
  },
  {
   "cell_type": "code",
   "execution_count": 35,
   "metadata": {},
   "outputs": [
    {
     "data": {
      "text/plain": [
       "1    1067\n",
       "4     936\n",
       "2     831\n",
       "3     781\n",
       "0     385\n",
       "Name: cluster, dtype: int64"
      ]
     },
     "execution_count": 35,
     "metadata": {},
     "output_type": "execute_result"
    }
   ],
   "source": [
    "df.cluster.value_counts()"
   ]
  },
  {
   "cell_type": "code",
   "execution_count": null,
   "metadata": {},
   "outputs": [],
   "source": []
  },
  {
   "cell_type": "code",
   "execution_count": null,
   "metadata": {},
   "outputs": [],
   "source": []
  },
  {
   "cell_type": "markdown",
   "metadata": {},
   "source": [
    "[К содержанию](#content)"
   ]
  },
  {
   "cell_type": "markdown",
   "metadata": {},
   "source": [
    "4. [Посмотреть на средние значения признаков для кластеров. Можно ли сразу что-то заметить?](#claster4)\n",
    "<a id='claster4'></a>"
   ]
  },
  {
   "cell_type": "code",
   "execution_count": 36,
   "metadata": {},
   "outputs": [
    {
     "data": {
      "text/html": [
       "<div>\n",
       "<style scoped>\n",
       "    .dataframe tbody tr th:only-of-type {\n",
       "        vertical-align: middle;\n",
       "    }\n",
       "\n",
       "    .dataframe tbody tr th {\n",
       "        vertical-align: top;\n",
       "    }\n",
       "\n",
       "    .dataframe thead th {\n",
       "        text-align: right;\n",
       "    }\n",
       "</style>\n",
       "<table border=\"1\" class=\"dataframe\">\n",
       "  <thead>\n",
       "    <tr style=\"text-align: right;\">\n",
       "      <th></th>\n",
       "      <th>0</th>\n",
       "      <th>1</th>\n",
       "      <th>2</th>\n",
       "      <th>3</th>\n",
       "      <th>4</th>\n",
       "    </tr>\n",
       "  </thead>\n",
       "  <tbody>\n",
       "    <tr>\n",
       "      <th>cluster</th>\n",
       "      <td>0.00</td>\n",
       "      <td>1.00</td>\n",
       "      <td>2.00</td>\n",
       "      <td>3.00</td>\n",
       "      <td>4.00</td>\n",
       "    </tr>\n",
       "    <tr>\n",
       "      <th>gender</th>\n",
       "      <td>0.52</td>\n",
       "      <td>0.48</td>\n",
       "      <td>0.56</td>\n",
       "      <td>0.51</td>\n",
       "      <td>0.50</td>\n",
       "    </tr>\n",
       "    <tr>\n",
       "      <th>near_location</th>\n",
       "      <td>0.86</td>\n",
       "      <td>0.81</td>\n",
       "      <td>0.86</td>\n",
       "      <td>0.75</td>\n",
       "      <td>0.94</td>\n",
       "    </tr>\n",
       "    <tr>\n",
       "      <th>partner</th>\n",
       "      <td>0.47</td>\n",
       "      <td>0.00</td>\n",
       "      <td>0.34</td>\n",
       "      <td>1.00</td>\n",
       "      <td>0.75</td>\n",
       "    </tr>\n",
       "    <tr>\n",
       "      <th>promo_friends</th>\n",
       "      <td>0.31</td>\n",
       "      <td>0.09</td>\n",
       "      <td>0.20</td>\n",
       "      <td>0.45</td>\n",
       "      <td>0.54</td>\n",
       "    </tr>\n",
       "    <tr>\n",
       "      <th>phone</th>\n",
       "      <td>0.00</td>\n",
       "      <td>1.00</td>\n",
       "      <td>1.00</td>\n",
       "      <td>1.00</td>\n",
       "      <td>1.00</td>\n",
       "    </tr>\n",
       "    <tr>\n",
       "      <th>contract_period</th>\n",
       "      <td>4.79</td>\n",
       "      <td>1.87</td>\n",
       "      <td>2.73</td>\n",
       "      <td>2.55</td>\n",
       "      <td>11.35</td>\n",
       "    </tr>\n",
       "    <tr>\n",
       "      <th>group_visits</th>\n",
       "      <td>0.43</td>\n",
       "      <td>0.33</td>\n",
       "      <td>0.45</td>\n",
       "      <td>0.30</td>\n",
       "      <td>0.56</td>\n",
       "    </tr>\n",
       "    <tr>\n",
       "      <th>age</th>\n",
       "      <td>29.30</td>\n",
       "      <td>28.15</td>\n",
       "      <td>30.20</td>\n",
       "      <td>28.50</td>\n",
       "      <td>29.99</td>\n",
       "    </tr>\n",
       "    <tr>\n",
       "      <th>avg_additional_charges_total</th>\n",
       "      <td>143.96</td>\n",
       "      <td>131.37</td>\n",
       "      <td>164.58</td>\n",
       "      <td>129.81</td>\n",
       "      <td>164.56</td>\n",
       "    </tr>\n",
       "    <tr>\n",
       "      <th>month_to_end_contract</th>\n",
       "      <td>4.48</td>\n",
       "      <td>1.79</td>\n",
       "      <td>2.52</td>\n",
       "      <td>2.37</td>\n",
       "      <td>10.38</td>\n",
       "    </tr>\n",
       "    <tr>\n",
       "      <th>lifetime</th>\n",
       "      <td>3.92</td>\n",
       "      <td>2.35</td>\n",
       "      <td>5.01</td>\n",
       "      <td>2.83</td>\n",
       "      <td>4.82</td>\n",
       "    </tr>\n",
       "    <tr>\n",
       "      <th>avg_class_frequency_total</th>\n",
       "      <td>1.85</td>\n",
       "      <td>1.33</td>\n",
       "      <td>2.93</td>\n",
       "      <td>1.36</td>\n",
       "      <td>2.03</td>\n",
       "    </tr>\n",
       "    <tr>\n",
       "      <th>avg_class_frequency_current_month</th>\n",
       "      <td>1.72</td>\n",
       "      <td>1.09</td>\n",
       "      <td>2.93</td>\n",
       "      <td>1.18</td>\n",
       "      <td>2.02</td>\n",
       "    </tr>\n",
       "    <tr>\n",
       "      <th>churn</th>\n",
       "      <td>0.27</td>\n",
       "      <td>0.55</td>\n",
       "      <td>0.05</td>\n",
       "      <td>0.40</td>\n",
       "      <td>0.02</td>\n",
       "    </tr>\n",
       "  </tbody>\n",
       "</table>\n",
       "</div>"
      ],
      "text/plain": [
       "                                       0      1      2      3      4\n",
       "cluster                             0.00   1.00   2.00   3.00   4.00\n",
       "gender                              0.52   0.48   0.56   0.51   0.50\n",
       "near_location                       0.86   0.81   0.86   0.75   0.94\n",
       "partner                             0.47   0.00   0.34   1.00   0.75\n",
       "promo_friends                       0.31   0.09   0.20   0.45   0.54\n",
       "phone                               0.00   1.00   1.00   1.00   1.00\n",
       "contract_period                     4.79   1.87   2.73   2.55  11.35\n",
       "group_visits                        0.43   0.33   0.45   0.30   0.56\n",
       "age                                29.30  28.15  30.20  28.50  29.99\n",
       "avg_additional_charges_total      143.96 131.37 164.58 129.81 164.56\n",
       "month_to_end_contract               4.48   1.79   2.52   2.37  10.38\n",
       "lifetime                            3.92   2.35   5.01   2.83   4.82\n",
       "avg_class_frequency_total           1.85   1.33   2.93   1.36   2.03\n",
       "avg_class_frequency_current_month   1.72   1.09   2.93   1.18   2.02\n",
       "churn                               0.27   0.55   0.05   0.40   0.02"
      ]
     },
     "execution_count": 36,
     "metadata": {},
     "output_type": "execute_result"
    }
   ],
   "source": [
    "df.groupby(['cluster']).mean().reset_index().T"
   ]
  },
  {
   "cell_type": "markdown",
   "metadata": {},
   "source": [
    "**Набор данных включает следующие поля:**\n",
    "\n",
    "- 'Churn' — факт оттока в текущем месяце;\n",
    "    \n",
    "**Текущие поля в датасете:**\n",
    "\n",
    "Данные клиента за предыдущий до проверки факта оттока месяц:\n",
    "\n",
    "- 'gender' — пол;\n",
    "- 'Near_Location' — проживание или работа в районе, где находится фитнес-центр;\n",
    "- 'Partner' — сотрудник компании-партнёра клуба (сотрудничество с компаниями, чьи сотрудники могут получать скидки на абонемент — в таком случае фитнес-центр хранит информацию о работодателе клиента);\n",
    "- Promo_friends — факт первоначальной записи в рамках акции «приведи друга» (использовал промо-код от знакомого при оплате первого абонемента);\n",
    "- 'Phone' — наличие контактного телефона;\n",
    "- 'Age' — возраст;\n",
    "- 'Lifetime' — время с момента первого обращения в фитнес-центр (в месяцах).\n",
    "\n",
    "**Информация на основе журнала посещений, покупок и информация о текущем статусе абонемента клиента:**\n",
    "\n",
    "- 'Contract_period' — длительность текущего действующего абонемента (месяц, 3 месяца, 6 месяцев, год);\n",
    "- 'Month_to_end_contract' — срок до окончания текущего действующего абонемента (в месяцах);\n",
    "- 'Group_visits' — факт посещения групповых занятий;\n",
    "- 'Avg_class_frequency_total' — средняя частота посещений в неделю за все время с начала действия абонемента;\n",
    "- 'Avg_class_frequency_current_month' — средняя частота посещений в неделю за предыдущий месяц;\n",
    "- 'Avg_additional_charges_total' — суммарная выручка от других услуг фитнес-центра: кафе, спорт-товары, косметический и массажный салон."
   ]
  },
  {
   "cell_type": "markdown",
   "metadata": {},
   "source": [
    "  Наибольший отток демонстрирует кластер №3. Этот же кластер демонстрирует наименьшие показатели по:\n",
    "  - средней частоте посещений в неделю за предыдущий месяц;\n",
    "  - средней частоте посещений в неделю за все время с начала действия абонемента;\n",
    "  - времени с момента первого обращения в фитнес-центр;\n",
    "  - сроку до окончания текущего действующего абонемента;\n",
    "  - суммарной выручке от других услуг фитнес-центра: кафе, спорт-товары, косметический и массажный салон;\n",
    "  - возрасту - средний возраст 28 лет;\n",
    "  - длительности текущего действующего абонемента;\n",
    "  - сотрудник компании-партнёра клуба (сотрудничество с компаниями, чьи сотрудники могут получать скидки на абонемент — в таком случае фитнес-центр хранит информацию о работодателе клиента);\n",
    "  \n",
    "В добавок к этому представители кластера №3 живут в наибольшем удалении от клубов.\n",
    "\n",
    "Наименьший отток показывают кластеры №0 и №4."
   ]
  },
  {
   "cell_type": "markdown",
   "metadata": {},
   "source": [
    "[К содержанию](#content)"
   ]
  },
  {
   "cell_type": "markdown",
   "metadata": {},
   "source": [
    "5. [Построить распределения признаков для кластеров. Можно ли что-то заметить по ним?](#claster5)\n",
    "<a id='claster5'></a>"
   ]
  },
  {
   "cell_type": "code",
   "execution_count": 37,
   "metadata": {},
   "outputs": [
    {
     "data": {
      "image/png": "[encoded data removed]",
      "text/plain": [
       "<Figure size 360x360 with 1 Axes>"
      ]
     },
     "metadata": {
      "needs_background": "light"
     },
     "output_type": "display_data"
    },
    {
     "data": {
      "image/png": "[encoded data removed]",
      "text/plain": [
       "<Figure size 360x360 with 1 Axes>"
      ]
     },
     "metadata": {
      "needs_background": "light"
     },
     "output_type": "display_data"
    },
    {
     "data": {
      "image/png": "[encoded data removed]",
      "text/plain": [
       "<Figure size 360x360 with 1 Axes>"
      ]
     },
     "metadata": {
      "needs_background": "light"
     },
     "output_type": "display_data"
    },
    {
     "data": {
      "image/png": "[encoded data removed]",
      "text/plain": [
       "<Figure size 360x360 with 1 Axes>"
      ]
     },
     "metadata": {
      "needs_background": "light"
     },
     "output_type": "display_data"
    },
    {
     "data": {
      "image/png": "[encoded data removed]",
      "text/plain": [
       "<Figure size 360x360 with 1 Axes>"
      ]
     },
     "metadata": {
      "needs_background": "light"
     },
     "output_type": "display_data"
    },
    {
     "data": {
      "image/png": "[encoded data removed]",
      "text/plain": [
       "<Figure size 360x360 with 1 Axes>"
      ]
     },
     "metadata": {
      "needs_background": "light"
     },
     "output_type": "display_data"
    },
    {
     "data": {
      "image/png": "[encoded data removed]",
      "text/plain": [
       "<Figure size 360x360 with 1 Axes>"
      ]
     },
     "metadata": {
      "needs_background": "light"
     },
     "output_type": "display_data"
    },
    {
     "data": {
      "image/png": "[encoded data removed]",
      "text/plain": [
       "<Figure size 360x360 with 1 Axes>"
      ]
     },
     "metadata": {
      "needs_background": "light"
     },
     "output_type": "display_data"
    },
    {
     "data": {
      "image/png": "[encoded data removed]",
      "text/plain": [
       "<Figure size 360x360 with 1 Axes>"
      ]
     },
     "metadata": {
      "needs_background": "light"
     },
     "output_type": "display_data"
    },
    {
     "data": {
      "image/png": "[encoded data removed]",
      "text/plain": [
       "<Figure size 360x360 with 1 Axes>"
      ]
     },
     "metadata": {
      "needs_background": "light"
     },
     "output_type": "display_data"
    }
   ],
   "source": [
    "for column in ['group_visits', 'near_location', 'partner', 'phone', 'promo_friends', 'gender',\n",
    "             'contract_period', 'age', 'lifetime', 'month_to_end_contract']:\n",
    "    plt.figure(figsize=(5, 5))\n",
    "    sns.countplot(x = df[column], hue='cluster', data=df)\n",
    "    plt.title(column)\n",
    "    plt.show()"
   ]
  },
  {
   "cell_type": "code",
   "execution_count": 38,
   "metadata": {},
   "outputs": [
    {
     "data": {
      "image/png": "[encoded data removed]",
      "text/plain": [
       "<Figure size 360x360 with 1 Axes>"
      ]
     },
     "metadata": {
      "needs_background": "light"
     },
     "output_type": "display_data"
    },
    {
     "data": {
      "image/png": "[encoded data removed]",
      "text/plain": [
       "<Figure size 360x360 with 1 Axes>"
      ]
     },
     "metadata": {
      "needs_background": "light"
     },
     "output_type": "display_data"
    },
    {
     "data": {
      "image/png": "[encoded data removed]",
      "text/plain": [
       "<Figure size 360x360 with 1 Axes>"
      ]
     },
     "metadata": {
      "needs_background": "light"
     },
     "output_type": "display_data"
    },
    {
     "data": {
      "image/png": "[encoded data removed]",
      "text/plain": [
       "<Figure size 360x360 with 1 Axes>"
      ]
     },
     "metadata": {
      "needs_background": "light"
     },
     "output_type": "display_data"
    },
    {
     "data": {
      "image/png": "[encoded data removed]",
      "text/plain": [
       "<Figure size 360x360 with 1 Axes>"
      ]
     },
     "metadata": {
      "needs_background": "light"
     },
     "output_type": "display_data"
    },
    {
     "data": {
      "image/png": "[encoded data removed]",
      "text/plain": [
       "<Figure size 360x360 with 1 Axes>"
      ]
     },
     "metadata": {
      "needs_background": "light"
     },
     "output_type": "display_data"
    }
   ],
   "source": [
    "for column in ['month_to_end_contract', 'age', 'avg_additional_charges_total', 'lifetime', 'avg_class_frequency_total', 'avg_class_frequency_current_month']:\n",
    "    plt.figure(figsize=(5, 5))\n",
    "    sns.boxplot(x = 'cluster', y = df[column], data = df)\n",
    "    plt.show()"
   ]
  },
  {
   "cell_type": "markdown",
   "metadata": {},
   "source": [
    "Тезисно:\n",
    "- Отток тем выше, чем:\n",
    "    - ниже факт посещения групповых занятий;\n",
    "    - дальше от клуба клиент проживает;\n",
    "    - реже факт первоначальной записи в рамках акции «приведи друга»;\n",
    "- Графики также подтверждают вывод о клиентах из третьего кластера, сделанные ранее.    "
   ]
  },
  {
   "cell_type": "markdown",
   "metadata": {},
   "source": [
    "[К содержанию](#content)"
   ]
  },
  {
   "cell_type": "markdown",
   "metadata": {},
   "source": [
    "6. [Для каждого полученного кластера посчитать долю оттока (методом groupby()). Отличаются ли они по доле оттока? Какие кластеры склонны к оттоку, а какие — надёжны?](#claster6)\n",
    "<a id='claster6'></a>"
   ]
  },
  {
   "cell_type": "code",
   "execution_count": 39,
   "metadata": {},
   "outputs": [],
   "source": [
    "outflow_share = pd.DataFrame(df.groupby(['cluster'])['churn'].sum() /\n",
    "                       df.groupby(['cluster'])['churn'].count() * 100).reset_index()"
   ]
  },
  {
   "cell_type": "code",
   "execution_count": 40,
   "metadata": {},
   "outputs": [
    {
     "name": "stdout",
     "output_type": "stream",
     "text": [
      "Доля оттока:\n"
     ]
    },
    {
     "data": {
      "text/html": [
       "<div>\n",
       "<style scoped>\n",
       "    .dataframe tbody tr th:only-of-type {\n",
       "        vertical-align: middle;\n",
       "    }\n",
       "\n",
       "    .dataframe tbody tr th {\n",
       "        vertical-align: top;\n",
       "    }\n",
       "\n",
       "    .dataframe thead th {\n",
       "        text-align: right;\n",
       "    }\n",
       "</style>\n",
       "<table border=\"1\" class=\"dataframe\">\n",
       "  <thead>\n",
       "    <tr style=\"text-align: right;\">\n",
       "      <th></th>\n",
       "      <th>cluster</th>\n",
       "      <th>churn</th>\n",
       "    </tr>\n",
       "  </thead>\n",
       "  <tbody>\n",
       "    <tr>\n",
       "      <th>0</th>\n",
       "      <td>0</td>\n",
       "      <td>26.75</td>\n",
       "    </tr>\n",
       "    <tr>\n",
       "      <th>1</th>\n",
       "      <td>1</td>\n",
       "      <td>55.01</td>\n",
       "    </tr>\n",
       "    <tr>\n",
       "      <th>2</th>\n",
       "      <td>2</td>\n",
       "      <td>4.81</td>\n",
       "    </tr>\n",
       "    <tr>\n",
       "      <th>3</th>\n",
       "      <td>3</td>\n",
       "      <td>39.56</td>\n",
       "    </tr>\n",
       "    <tr>\n",
       "      <th>4</th>\n",
       "      <td>4</td>\n",
       "      <td>2.35</td>\n",
       "    </tr>\n",
       "  </tbody>\n",
       "</table>\n",
       "</div>"
      ],
      "text/plain": [
       "   cluster  churn\n",
       "0        0  26.75\n",
       "1        1  55.01\n",
       "2        2   4.81\n",
       "3        3  39.56\n",
       "4        4   2.35"
      ]
     },
     "execution_count": 40,
     "metadata": {},
     "output_type": "execute_result"
    }
   ],
   "source": [
    "print ('Доля оттока:')\n",
    "outflow_share"
   ]
  },
  {
   "cell_type": "markdown",
   "metadata": {},
   "source": [
    "Как видим, представители кластера №3, в силу комплекса вышеобозначенных причин, демонстрируют 51% оттока из фитнес клубов. Также в группе риска находится кластер №2 - (44% оттока) - не мешало бы уделить его представителям более пристальное внимание, дабы не потерять. Наиболее надёжными кластерами в порядке значимости являются:\n",
    "- №0\n",
    "- №4"
   ]
  },
  {
   "cell_type": "markdown",
   "metadata": {},
   "source": [
    "[К содержанию](#content)"
   ]
  },
  {
   "cell_type": "markdown",
   "metadata": {},
   "source": [
    "[Шаг №5. Сформулировать выводы и сделать базовые рекомендации по работе с клиентами. Сформулировать основные выводы и предложить рекомендации для стратегии взаимодействия с клиентами и их удержания. Не описывать стратегию детально: достаточно 3-4 важных принципов и примеров их реализации в виде определённых маркетинговых действий.](#conclusions)\n",
    "<a id='conclusions'></a>"
   ]
  },
  {
   "cell_type": "markdown",
   "metadata": {},
   "source": [
    "# Выводы"
   ]
  },
  {
   "cell_type": "markdown",
   "metadata": {},
   "source": [
    "В представленной таблице:\n",
    "- 14 колонок с 4000 наблюдений;\n",
    "- типы данных столбцов представленной таблицы соответствуют содержащимся в них данным (многие праматеры могут быть булевыми, но для удобства дальнейших рассчётов оставим их целочисленными);\n",
    "- пропуски значений в таблице не обнаружены;\n",
    "- дубликаты не обнаружены;\n",
    "- названия столбцов адекватно отображают своё содержимое - для удобства дальнейшей работы с ними переведены в нижний регистр.\n",
    "- в дальнейшей работе будем исходить из предположения о том, что: \n",
    "    - в столбце gender 0 == женщина, 1 == мужчина;\n",
    "    - во всех остальных ситуациях с бинарным распределением будем исходить из того, что 0 подразумевает False, а 1 - True.\n",
    "\n",
    "Вывод: на этапе загрузки и предобработки данных не обнаружено сдерживающих факторов, препятствующих дальнейшей работе с таблицей.\n",
    "\n",
    "\n",
    "В среднем сеть фитнес-центров посещает примерно равное число мужчин и женщин. Средний возраст посетителей 29 лет (разброс от 18 лет до 41 года). Если исходить из того, что в бинарном распределении среднее значение равное единице составит 100 %, то средний отток в текущей таблице составляет 27 %. \n",
    "\n",
    "Средние значения признаков у ушедших и оставшихся не отличаются принципиально. Есть, однако, ряд отличий, которые стоило бы упомянуть. Портрет среднестатистического \"уходящего\": покидает тренировки в первый месяц, посещает фитнес-центр нерегулярно (1, реже 2 раза в неделю), абонемент приобретает на месяц или три месяца. С меньшим энтузиазмом от \"оставшихся\" тратится на другие услуги фитнес-центра: кафе, спорт-товары, косметический и массажный салон.\n",
    "\n",
    "Как правило доля ушедших при отсутствии признака (не посещали группы, живут не рядом с клубом, не сотрудники компаний-партнёров и т.д.) почти в 2 раза выше, чем при наличии признака. Доля оттока по признакам наличия телефона в базе и половой принадлежности существенных отличий от доли оставшихся не имеет.\n",
    "\n",
    "По количественным признакам оставшиеся имеют более высокие средние показатели и больший разброс в сторону увеличения значения признака.\n",
    "\n",
    "Как уже было замечено выше, на отток влияют срок действия абонемента, частота посещений тренировок в неделю. Признаки с нулевой корреляцией с целевой переменной - пол и наличие контактного телефона , как и было замечено ранее.\n",
    "\n",
    "При обучении выборки алгоритмом логистической регрессии, было выявлено:\n",
    "- Доля верно угаданных ответов из всех прогнозов 93%. Однако, следует учесть, что балланс классов отсутствует, а значит, в прогнозах могут закрадываться ошибки. Согласно метрике точности (Precision), верность доли оттока составляет 86%. Метрика полноты (Recall) сообщает нам о том, что мы обнаружили 83% реальных объектов оттока.\n",
    "\n",
    "При обучении выборки алгоритмом случайный лес, было выявлено:\n",
    "- Доля верно угаданных ответов из всех прогнозов 92%. Однако, следует учесть, что балланс классов отсутствует, а значит, в прогнозах могут закрадываться ошибки. Согласно метрике точности (Precision), верность доли оттока составляет 84%. Метрика полноты (Recall) сообщает нам о том, что мы обнаружили 81% реальных объектов оттока.\n",
    "\n",
    "Разница в метриках логистической регрессии и случайного леса составляет 1-2% в пользу логистической регрессии.\n",
    "\n",
    "В процессе класстеризации было выявлено:\n",
    "\n",
    "Наибольший отток демонстрирует кластер №3. Этот же кластер демонстрирует наименьшие показатели по:\n",
    "  - средней частоте посещений в неделю за предыдущий месяц;\n",
    "  - средней частоте посещений в неделю за все время с начала действия абонемента;\n",
    "  - времени с момента первого обращения в фитнес-центр;\n",
    "  - сроку до окончания текущего действующего абонемента;\n",
    "  - суммарной выручке от других услуг фитнес-центра: кафе, спорт-товары, косметический и массажный салон;\n",
    "  - возрасту - средний возраст 28 лет;\n",
    "  - длительности текущего действующего абонемента;\n",
    "  - сотрудник компании-партнёра клуба (сотрудничество с компаниями, чьи сотрудники могут получать скидки на абонемент — в таком случае фитнес-центр хранит информацию о работодателе клиента);\n",
    "  \n",
    "В добавок к этому представители кластера №3 живут в наибольшем удалении от клубов.\n",
    "\n",
    "Наименьший отток показывают кластеры №0 и №4.\n",
    "\n",
    "Кроме того, отток тем выше, чем:\n",
    "    - ниже факт посещения групповых занятий;\n",
    "    - дальше от клуба клиент проживает;\n",
    "    - реже факт первоначальной записи в рамках акции «приведи друга»;   \n",
    "    \n",
    "Как видим, представители кластера №3, в силу комплекса вышеобозначенных причин, демонстрируют 51% оттока из фитнес клубов. Также в группе риска находится кластер №2 - (44% оттока) - не мешало бы уделить его представителям более пристальное внимание, дабы не потерять. Наиболее надёжными кластерами в порядке значимости являются:\n",
    "- №0\n",
    "- №4"
   ]
  },
  {
   "cell_type": "markdown",
   "metadata": {},
   "source": [
    "# Рекомендации"
   ]
  },
  {
   "cell_type": "markdown",
   "metadata": {},
   "source": [
    "- Как демонстрируют данные, уходят чаще всего после первого месяца. Может быть имеет смысл новым клиентам дарить подарочный абонемент ещё на месяц вперёд, чтоб они \"втянулись\" в занятия.\n",
    "- Нерегулярность посещения является фактором, приводящим к высоковероятному дальнейшему оттоку. Придумать бонусы за регулярность посещений?\n",
    "- Чаще склонны к оттоку люди младше 28 лет. Может имеет смысл продумать систему поддержки более опытными спортсменами молодых, создать атмосферу сопричастности."
   ]
  }
 ],
 "metadata": {
  "ExecuteTimeLog": [
   {
    "duration": 1437,
    "start_time": "2021-07-31T10:31:13.776Z"
   },
   {
    "duration": 4,
    "start_time": "2021-07-31T10:31:36.923Z"
   },
   {
    "duration": 4,
    "start_time": "2021-07-31T10:32:08.501Z"
   },
   {
    "duration": 39,
    "start_time": "2021-07-31T10:32:35.427Z"
   },
   {
    "duration": 15,
    "start_time": "2021-07-31T10:32:52.938Z"
   },
   {
    "duration": 11,
    "start_time": "2021-07-31T10:34:12.009Z"
   },
   {
    "duration": 7,
    "start_time": "2021-07-31T10:34:35.759Z"
   },
   {
    "duration": 12,
    "start_time": "2021-07-31T10:35:05.750Z"
   },
   {
    "duration": 6,
    "start_time": "2021-07-31T10:35:41.017Z"
   },
   {
    "duration": 4,
    "start_time": "2021-07-31T10:36:26.032Z"
   },
   {
    "duration": 5,
    "start_time": "2021-07-31T10:36:36.436Z"
   },
   {
    "duration": 16,
    "start_time": "2021-07-31T10:36:48.897Z"
   },
   {
    "duration": 76,
    "start_time": "2021-07-31T10:38:20.120Z"
   },
   {
    "duration": 61,
    "start_time": "2021-07-31T10:38:36.492Z"
   },
   {
    "duration": 6,
    "start_time": "2021-07-31T11:03:32.916Z"
   },
   {
    "duration": 485,
    "start_time": "2021-07-31T11:25:12.326Z"
   },
   {
    "duration": 132,
    "start_time": "2021-07-31T11:25:29.688Z"
   },
   {
    "duration": 130,
    "start_time": "2021-07-31T11:28:21.782Z"
   },
   {
    "duration": 1336,
    "start_time": "2021-07-31T12:06:45.789Z"
   },
   {
    "duration": 3328,
    "start_time": "2021-07-31T12:12:04.736Z"
   },
   {
    "duration": 1218,
    "start_time": "2021-07-31T12:12:22.882Z"
   },
   {
    "duration": 1475,
    "start_time": "2021-07-31T12:18:07.993Z"
   },
   {
    "duration": 4,
    "start_time": "2021-07-31T12:18:09.471Z"
   },
   {
    "duration": 10,
    "start_time": "2021-07-31T12:18:09.478Z"
   },
   {
    "duration": 42,
    "start_time": "2021-07-31T12:18:09.492Z"
   },
   {
    "duration": 15,
    "start_time": "2021-07-31T12:18:09.536Z"
   },
   {
    "duration": 46,
    "start_time": "2021-07-31T12:18:09.554Z"
   },
   {
    "duration": 8,
    "start_time": "2021-07-31T12:18:09.603Z"
   },
   {
    "duration": 13,
    "start_time": "2021-07-31T12:18:09.613Z"
   },
   {
    "duration": 6,
    "start_time": "2021-07-31T12:18:09.630Z"
   },
   {
    "duration": 52,
    "start_time": "2021-07-31T12:18:09.639Z"
   },
   {
    "duration": 10,
    "start_time": "2021-07-31T12:18:09.694Z"
   },
   {
    "duration": 6,
    "start_time": "2021-07-31T12:18:09.707Z"
   },
   {
    "duration": 99,
    "start_time": "2021-07-31T12:18:09.716Z"
   },
   {
    "duration": 132,
    "start_time": "2021-07-31T12:18:09.818Z"
   },
   {
    "duration": 366830,
    "start_time": "2021-07-31T12:18:09.954Z"
   },
   {
    "duration": 1476,
    "start_time": "2021-07-31T12:27:04.539Z"
   },
   {
    "duration": 3,
    "start_time": "2021-07-31T12:27:06.018Z"
   },
   {
    "duration": 4,
    "start_time": "2021-07-31T12:27:06.028Z"
   },
   {
    "duration": 65,
    "start_time": "2021-07-31T12:27:06.034Z"
   },
   {
    "duration": 13,
    "start_time": "2021-07-31T12:27:06.102Z"
   },
   {
    "duration": 14,
    "start_time": "2021-07-31T12:27:06.118Z"
   },
   {
    "duration": 7,
    "start_time": "2021-07-31T12:27:06.136Z"
   },
   {
    "duration": 41,
    "start_time": "2021-07-31T12:27:06.146Z"
   },
   {
    "duration": 9,
    "start_time": "2021-07-31T12:27:06.189Z"
   },
   {
    "duration": 4,
    "start_time": "2021-07-31T12:27:06.200Z"
   },
   {
    "duration": 8,
    "start_time": "2021-07-31T12:27:06.207Z"
   },
   {
    "duration": 7,
    "start_time": "2021-07-31T12:27:06.217Z"
   },
   {
    "duration": 104,
    "start_time": "2021-07-31T12:27:06.226Z"
   },
   {
    "duration": 121,
    "start_time": "2021-07-31T12:27:06.332Z"
   },
   {
    "duration": 2303,
    "start_time": "2021-07-31T12:27:06.455Z"
   },
   {
    "duration": 352372,
    "start_time": "2021-07-31T12:28:32.614Z"
   },
   {
    "duration": 4564,
    "start_time": "2021-07-31T12:34:24.989Z"
   },
   {
    "duration": 1530,
    "start_time": "2021-07-31T12:38:38.221Z"
   },
   {
    "duration": 2393,
    "start_time": "2021-07-31T12:39:57.926Z"
   },
   {
    "duration": 2423,
    "start_time": "2021-07-31T12:41:22.714Z"
   },
   {
    "duration": 4,
    "start_time": "2021-07-31T12:43:45.520Z"
   },
   {
    "duration": 3711,
    "start_time": "2021-07-31T12:43:50.860Z"
   },
   {
    "duration": 6,
    "start_time": "2021-07-31T12:45:13.952Z"
   },
   {
    "duration": 4193,
    "start_time": "2021-07-31T12:45:24.472Z"
   },
   {
    "duration": 5048,
    "start_time": "2021-07-31T13:03:00.955Z"
   },
   {
    "duration": 13,
    "start_time": "2021-07-31T13:11:27.331Z"
   },
   {
    "duration": 4026,
    "start_time": "2021-07-31T13:11:29.640Z"
   },
   {
    "duration": 1580,
    "start_time": "2021-07-31T13:13:34.370Z"
   },
   {
    "duration": 4,
    "start_time": "2021-07-31T13:13:35.953Z"
   },
   {
    "duration": 19,
    "start_time": "2021-07-31T13:13:35.962Z"
   },
   {
    "duration": 52,
    "start_time": "2021-07-31T13:13:35.985Z"
   },
   {
    "duration": 14,
    "start_time": "2021-07-31T13:13:36.040Z"
   },
   {
    "duration": 29,
    "start_time": "2021-07-31T13:13:36.057Z"
   },
   {
    "duration": 10,
    "start_time": "2021-07-31T13:13:36.088Z"
   },
   {
    "duration": 19,
    "start_time": "2021-07-31T13:13:36.102Z"
   },
   {
    "duration": 6,
    "start_time": "2021-07-31T13:13:36.125Z"
   },
   {
    "duration": 12,
    "start_time": "2021-07-31T13:13:36.133Z"
   },
   {
    "duration": 38,
    "start_time": "2021-07-31T13:13:36.147Z"
   },
   {
    "duration": 17,
    "start_time": "2021-07-31T13:13:36.187Z"
   },
   {
    "duration": 91,
    "start_time": "2021-07-31T13:13:36.207Z"
   },
   {
    "duration": 131,
    "start_time": "2021-07-31T13:13:36.300Z"
   },
   {
    "duration": 4027,
    "start_time": "2021-07-31T13:13:36.434Z"
   },
   {
    "duration": 2964,
    "start_time": "2021-07-31T13:13:40.463Z"
   },
   {
    "duration": 1827,
    "start_time": "2021-07-31T13:14:52.501Z"
   },
   {
    "duration": 89,
    "start_time": "2021-07-31T13:20:13.267Z"
   },
   {
    "duration": 1715,
    "start_time": "2021-07-31T13:20:23.946Z"
   },
   {
    "duration": 3,
    "start_time": "2021-07-31T13:20:25.664Z"
   },
   {
    "duration": 5,
    "start_time": "2021-07-31T13:20:25.685Z"
   },
   {
    "duration": 91,
    "start_time": "2021-07-31T13:20:25.693Z"
   },
   {
    "duration": 41,
    "start_time": "2021-07-31T13:20:25.787Z"
   },
   {
    "duration": 15,
    "start_time": "2021-07-31T13:20:25.831Z"
   },
   {
    "duration": 34,
    "start_time": "2021-07-31T13:20:25.849Z"
   },
   {
    "duration": 10,
    "start_time": "2021-07-31T13:20:25.889Z"
   },
   {
    "duration": 17,
    "start_time": "2021-07-31T13:20:25.903Z"
   },
   {
    "duration": 13,
    "start_time": "2021-07-31T13:20:25.922Z"
   },
   {
    "duration": 7,
    "start_time": "2021-07-31T13:20:25.938Z"
   },
   {
    "duration": 38,
    "start_time": "2021-07-31T13:20:25.947Z"
   },
   {
    "duration": 9,
    "start_time": "2021-07-31T13:20:25.989Z"
   },
   {
    "duration": 91,
    "start_time": "2021-07-31T13:20:26.002Z"
   },
   {
    "duration": 136,
    "start_time": "2021-07-31T13:20:26.096Z"
   },
   {
    "duration": 3568,
    "start_time": "2021-07-31T13:20:26.234Z"
   },
   {
    "duration": 1666,
    "start_time": "2021-07-31T13:20:29.806Z"
   },
   {
    "duration": 1938,
    "start_time": "2021-07-31T13:27:59.767Z"
   },
   {
    "duration": 6,
    "start_time": "2021-07-31T13:48:55.230Z"
   },
   {
    "duration": 13,
    "start_time": "2021-07-31T13:49:02.282Z"
   },
   {
    "duration": 4,
    "start_time": "2021-07-31T13:54:13.294Z"
   },
   {
    "duration": 6,
    "start_time": "2021-07-31T13:55:47.907Z"
   },
   {
    "duration": 7,
    "start_time": "2021-07-31T13:56:20.795Z"
   },
   {
    "duration": 405,
    "start_time": "2021-07-31T13:58:35.300Z"
   },
   {
    "duration": 46,
    "start_time": "2021-07-31T14:00:06.390Z"
   },
   {
    "duration": 8,
    "start_time": "2021-07-31T14:00:08.425Z"
   },
   {
    "duration": 13,
    "start_time": "2021-07-31T14:01:25.860Z"
   },
   {
    "duration": 45,
    "start_time": "2021-07-31T14:02:49.045Z"
   },
   {
    "duration": 93,
    "start_time": "2021-07-31T14:03:11.600Z"
   },
   {
    "duration": 19,
    "start_time": "2021-07-31T14:03:24.697Z"
   },
   {
    "duration": 12,
    "start_time": "2021-07-31T14:33:30.101Z"
   },
   {
    "duration": 7,
    "start_time": "2021-07-31T14:34:03.416Z"
   },
   {
    "duration": 286,
    "start_time": "2021-07-31T14:36:34.044Z"
   },
   {
    "duration": 6,
    "start_time": "2021-07-31T14:38:09.314Z"
   },
   {
    "duration": 4,
    "start_time": "2021-07-31T14:38:29.473Z"
   },
   {
    "duration": 6,
    "start_time": "2021-07-31T14:39:19.475Z"
   },
   {
    "duration": 6,
    "start_time": "2021-07-31T14:40:07.802Z"
   },
   {
    "duration": 629,
    "start_time": "2021-07-31T14:42:37.248Z"
   },
   {
    "duration": 5,
    "start_time": "2021-07-31T14:44:13.003Z"
   },
   {
    "duration": 576,
    "start_time": "2021-07-31T14:44:21.638Z"
   },
   {
    "duration": 5,
    "start_time": "2021-07-31T18:55:43.136Z"
   },
   {
    "duration": 571,
    "start_time": "2021-07-31T18:55:46.817Z"
   },
   {
    "duration": 1547,
    "start_time": "2021-07-31T18:56:15.698Z"
   },
   {
    "duration": 3,
    "start_time": "2021-07-31T18:56:17.247Z"
   },
   {
    "duration": 6,
    "start_time": "2021-07-31T18:56:17.254Z"
   },
   {
    "duration": 110,
    "start_time": "2021-07-31T18:56:17.263Z"
   },
   {
    "duration": 41,
    "start_time": "2021-07-31T18:56:17.375Z"
   },
   {
    "duration": 14,
    "start_time": "2021-07-31T18:56:17.419Z"
   },
   {
    "duration": 14,
    "start_time": "2021-07-31T18:56:17.436Z"
   },
   {
    "duration": 41,
    "start_time": "2021-07-31T18:56:17.455Z"
   },
   {
    "duration": 11,
    "start_time": "2021-07-31T18:56:17.500Z"
   },
   {
    "duration": 5,
    "start_time": "2021-07-31T18:56:17.514Z"
   },
   {
    "duration": 4,
    "start_time": "2021-07-31T18:56:17.521Z"
   },
   {
    "duration": 11,
    "start_time": "2021-07-31T18:56:17.527Z"
   },
   {
    "duration": 59,
    "start_time": "2021-07-31T18:56:17.541Z"
   },
   {
    "duration": 99,
    "start_time": "2021-07-31T18:56:17.603Z"
   },
   {
    "duration": 168,
    "start_time": "2021-07-31T18:56:17.705Z"
   },
   {
    "duration": 3294,
    "start_time": "2021-07-31T18:56:17.875Z"
   },
   {
    "duration": 1567,
    "start_time": "2021-07-31T18:56:21.171Z"
   },
   {
    "duration": 1821,
    "start_time": "2021-07-31T18:56:22.741Z"
   },
   {
    "duration": 6,
    "start_time": "2021-07-31T18:56:24.564Z"
   },
   {
    "duration": 16,
    "start_time": "2021-07-31T18:56:24.583Z"
   },
   {
    "duration": 11,
    "start_time": "2021-07-31T18:56:24.602Z"
   },
   {
    "duration": 9,
    "start_time": "2021-07-31T18:56:24.615Z"
   },
   {
    "duration": 10,
    "start_time": "2021-07-31T18:56:24.629Z"
   },
   {
    "duration": 16,
    "start_time": "2021-07-31T18:56:24.642Z"
   },
   {
    "duration": 22,
    "start_time": "2021-07-31T18:56:24.660Z"
   },
   {
    "duration": 819,
    "start_time": "2021-07-31T18:56:24.685Z"
   },
   {
    "duration": -897,
    "start_time": "2021-07-31T18:56:26.404Z"
   },
   {
    "duration": 7,
    "start_time": "2021-07-31T19:01:43.788Z"
   },
   {
    "duration": 657,
    "start_time": "2021-07-31T19:01:44.612Z"
   },
   {
    "duration": 7,
    "start_time": "2021-07-31T19:04:12.981Z"
   },
   {
    "duration": 765,
    "start_time": "2021-07-31T19:04:14.888Z"
   },
   {
    "duration": 5,
    "start_time": "2021-07-31T19:06:56.964Z"
   },
   {
    "duration": 7,
    "start_time": "2021-07-31T19:06:58.139Z"
   },
   {
    "duration": 8,
    "start_time": "2021-07-31T19:07:21.309Z"
   },
   {
    "duration": 4,
    "start_time": "2021-07-31T19:07:49.078Z"
   },
   {
    "duration": 5,
    "start_time": "2021-07-31T19:07:52.904Z"
   },
   {
    "duration": 4,
    "start_time": "2021-07-31T19:07:53.564Z"
   },
   {
    "duration": 4,
    "start_time": "2021-07-31T19:09:46.824Z"
   },
   {
    "duration": 5,
    "start_time": "2021-07-31T19:10:48.701Z"
   },
   {
    "duration": 8,
    "start_time": "2021-07-31T19:11:17.086Z"
   },
   {
    "duration": 597,
    "start_time": "2021-07-31T19:11:58.224Z"
   },
   {
    "duration": 5,
    "start_time": "2021-07-31T19:14:39.968Z"
   },
   {
    "duration": 8,
    "start_time": "2021-07-31T19:15:03.398Z"
   },
   {
    "duration": 4,
    "start_time": "2021-07-31T19:21:05.701Z"
   },
   {
    "duration": 352,
    "start_time": "2021-07-31T19:22:40.472Z"
   },
   {
    "duration": 267,
    "start_time": "2021-07-31T19:24:35.656Z"
   },
   {
    "duration": 1971,
    "start_time": "2021-07-31T19:25:39.290Z"
   },
   {
    "duration": 5,
    "start_time": "2021-07-31T19:25:41.265Z"
   },
   {
    "duration": 11,
    "start_time": "2021-07-31T19:25:41.273Z"
   },
   {
    "duration": 110,
    "start_time": "2021-07-31T19:25:41.289Z"
   },
   {
    "duration": 37,
    "start_time": "2021-07-31T19:25:41.401Z"
   },
   {
    "duration": 14,
    "start_time": "2021-07-31T19:25:41.441Z"
   },
   {
    "duration": 27,
    "start_time": "2021-07-31T19:25:41.458Z"
   },
   {
    "duration": 14,
    "start_time": "2021-07-31T19:25:41.491Z"
   },
   {
    "duration": 12,
    "start_time": "2021-07-31T19:25:41.510Z"
   },
   {
    "duration": 7,
    "start_time": "2021-07-31T19:25:41.526Z"
   },
   {
    "duration": 8,
    "start_time": "2021-07-31T19:25:41.536Z"
   },
   {
    "duration": 13,
    "start_time": "2021-07-31T19:25:41.585Z"
   },
   {
    "duration": 6,
    "start_time": "2021-07-31T19:25:41.602Z"
   },
   {
    "duration": 98,
    "start_time": "2021-07-31T19:25:41.610Z"
   },
   {
    "duration": 120,
    "start_time": "2021-07-31T19:25:41.710Z"
   },
   {
    "duration": 5073,
    "start_time": "2021-07-31T19:25:41.832Z"
   },
   {
    "duration": 1710,
    "start_time": "2021-07-31T19:25:46.908Z"
   },
   {
    "duration": 1913,
    "start_time": "2021-07-31T19:25:48.621Z"
   },
   {
    "duration": 5,
    "start_time": "2021-07-31T19:25:50.537Z"
   },
   {
    "duration": 38,
    "start_time": "2021-07-31T19:25:50.544Z"
   },
   {
    "duration": 9,
    "start_time": "2021-07-31T19:25:50.586Z"
   },
   {
    "duration": 457,
    "start_time": "2021-07-31T19:25:50.598Z"
   },
   {
    "duration": 1595,
    "start_time": "2021-07-31T19:41:30.278Z"
   },
   {
    "duration": 3,
    "start_time": "2021-07-31T19:41:31.876Z"
   },
   {
    "duration": 5,
    "start_time": "2021-07-31T19:41:31.885Z"
   },
   {
    "duration": 83,
    "start_time": "2021-07-31T19:41:31.894Z"
   },
   {
    "duration": 40,
    "start_time": "2021-07-31T19:41:31.980Z"
   },
   {
    "duration": 13,
    "start_time": "2021-07-31T19:41:32.022Z"
   },
   {
    "duration": 9,
    "start_time": "2021-07-31T19:41:32.038Z"
   },
   {
    "duration": 7,
    "start_time": "2021-07-31T19:41:32.050Z"
   },
   {
    "duration": 13,
    "start_time": "2021-07-31T19:41:32.091Z"
   },
   {
    "duration": 6,
    "start_time": "2021-07-31T19:41:32.107Z"
   },
   {
    "duration": 4,
    "start_time": "2021-07-31T19:41:32.115Z"
   },
   {
    "duration": 11,
    "start_time": "2021-07-31T19:41:32.121Z"
   },
   {
    "duration": 10,
    "start_time": "2021-07-31T19:41:32.134Z"
   },
   {
    "duration": 105,
    "start_time": "2021-07-31T19:41:32.147Z"
   },
   {
    "duration": 145,
    "start_time": "2021-07-31T19:41:32.255Z"
   },
   {
    "duration": 3499,
    "start_time": "2021-07-31T19:41:32.403Z"
   },
   {
    "duration": 1555,
    "start_time": "2021-07-31T19:41:35.911Z"
   },
   {
    "duration": 1708,
    "start_time": "2021-07-31T19:41:37.468Z"
   },
   {
    "duration": 5,
    "start_time": "2021-07-31T19:41:39.178Z"
   },
   {
    "duration": 10,
    "start_time": "2021-07-31T19:41:39.186Z"
   },
   {
    "duration": 11,
    "start_time": "2021-07-31T19:41:39.199Z"
   },
   {
    "duration": 416,
    "start_time": "2021-07-31T19:41:39.212Z"
   },
   {
    "duration": 3,
    "start_time": "2021-07-31T19:42:34.704Z"
   },
   {
    "duration": 49,
    "start_time": "2021-07-31T19:42:35.629Z"
   },
   {
    "duration": 4,
    "start_time": "2021-07-31T19:42:54.934Z"
   },
   {
    "duration": 49,
    "start_time": "2021-07-31T19:42:54.940Z"
   },
   {
    "duration": 4,
    "start_time": "2021-07-31T19:53:53.699Z"
   },
   {
    "duration": 3,
    "start_time": "2021-07-31T19:53:59.005Z"
   },
   {
    "duration": 3,
    "start_time": "2021-07-31T19:54:03.047Z"
   },
   {
    "duration": 3,
    "start_time": "2021-07-31T19:54:09.276Z"
   },
   {
    "duration": 3,
    "start_time": "2021-07-31T19:56:58.577Z"
   },
   {
    "duration": 3,
    "start_time": "2021-07-31T19:56:59.227Z"
   },
   {
    "duration": 5,
    "start_time": "2021-07-31T19:57:53.066Z"
   },
   {
    "duration": 7,
    "start_time": "2021-07-31T19:58:19.054Z"
   },
   {
    "duration": 9,
    "start_time": "2021-07-31T19:58:38.165Z"
   },
   {
    "duration": 5,
    "start_time": "2021-07-31T19:59:00.879Z"
   },
   {
    "duration": 4,
    "start_time": "2021-07-31T20:00:45.133Z"
   },
   {
    "duration": 8,
    "start_time": "2021-07-31T20:01:07.593Z"
   },
   {
    "duration": 4,
    "start_time": "2021-07-31T20:01:45.439Z"
   },
   {
    "duration": 591,
    "start_time": "2021-07-31T20:02:15.435Z"
   },
   {
    "duration": 6,
    "start_time": "2021-07-31T20:02:36.274Z"
   },
   {
    "duration": 597,
    "start_time": "2021-07-31T20:02:36.846Z"
   },
   {
    "duration": 4,
    "start_time": "2021-07-31T20:04:31.413Z"
   },
   {
    "duration": 552,
    "start_time": "2021-07-31T20:04:35.089Z"
   },
   {
    "duration": 5,
    "start_time": "2021-07-31T20:05:22.321Z"
   },
   {
    "duration": 623,
    "start_time": "2021-07-31T20:05:23.127Z"
   },
   {
    "duration": 645,
    "start_time": "2021-07-31T20:06:24.113Z"
   },
   {
    "duration": 5,
    "start_time": "2021-07-31T20:09:22.811Z"
   },
   {
    "duration": 8,
    "start_time": "2021-07-31T20:09:28.889Z"
   },
   {
    "duration": 3,
    "start_time": "2021-07-31T20:09:33.632Z"
   },
   {
    "duration": 45,
    "start_time": "2021-07-31T20:09:39.625Z"
   },
   {
    "duration": 2,
    "start_time": "2021-07-31T20:09:44.460Z"
   },
   {
    "duration": 8,
    "start_time": "2021-07-31T20:09:50.961Z"
   },
   {
    "duration": 45,
    "start_time": "2021-07-31T20:10:39.186Z"
   },
   {
    "duration": 9,
    "start_time": "2021-07-31T20:10:42.495Z"
   },
   {
    "duration": 13,
    "start_time": "2021-07-31T20:10:45.122Z"
   },
   {
    "duration": 8,
    "start_time": "2021-07-31T20:12:38.398Z"
   },
   {
    "duration": 13,
    "start_time": "2021-07-31T20:12:40.903Z"
   },
   {
    "duration": 13,
    "start_time": "2021-07-31T20:18:35.577Z"
   },
   {
    "duration": 11,
    "start_time": "2021-07-31T20:26:17.539Z"
   },
   {
    "duration": 8,
    "start_time": "2021-07-31T20:39:47.861Z"
   },
   {
    "duration": 9,
    "start_time": "2021-07-31T20:39:58.966Z"
   },
   {
    "duration": 8,
    "start_time": "2021-07-31T20:40:11.298Z"
   },
   {
    "duration": 467,
    "start_time": "2021-07-31T20:40:28.901Z"
   },
   {
    "duration": 55,
    "start_time": "2021-07-31T20:40:38.624Z"
   },
   {
    "duration": 13,
    "start_time": "2021-07-31T20:41:58.965Z"
   },
   {
    "duration": 12,
    "start_time": "2021-07-31T20:42:19.289Z"
   },
   {
    "duration": 5,
    "start_time": "2021-07-31T20:49:27.849Z"
   },
   {
    "duration": 8,
    "start_time": "2021-07-31T20:49:29.730Z"
   },
   {
    "duration": 1647,
    "start_time": "2021-07-31T20:50:38.485Z"
   },
   {
    "duration": 4,
    "start_time": "2021-07-31T20:50:40.134Z"
   },
   {
    "duration": 16,
    "start_time": "2021-07-31T20:50:40.140Z"
   },
   {
    "duration": 120,
    "start_time": "2021-07-31T20:50:40.159Z"
   },
   {
    "duration": 39,
    "start_time": "2021-07-31T20:50:40.281Z"
   },
   {
    "duration": 14,
    "start_time": "2021-07-31T20:50:40.322Z"
   },
   {
    "duration": 24,
    "start_time": "2021-07-31T20:50:40.338Z"
   },
   {
    "duration": 25,
    "start_time": "2021-07-31T20:50:40.364Z"
   },
   {
    "duration": 14,
    "start_time": "2021-07-31T20:50:40.396Z"
   },
   {
    "duration": 7,
    "start_time": "2021-07-31T20:50:40.415Z"
   },
   {
    "duration": 12,
    "start_time": "2021-07-31T20:50:40.425Z"
   },
   {
    "duration": 12,
    "start_time": "2021-07-31T20:50:40.440Z"
   },
   {
    "duration": 32,
    "start_time": "2021-07-31T20:50:40.454Z"
   },
   {
    "duration": 73,
    "start_time": "2021-07-31T20:50:40.489Z"
   },
   {
    "duration": 138,
    "start_time": "2021-07-31T20:50:40.565Z"
   },
   {
    "duration": 3273,
    "start_time": "2021-07-31T20:50:40.706Z"
   },
   {
    "duration": 1523,
    "start_time": "2021-07-31T20:50:43.983Z"
   },
   {
    "duration": 1749,
    "start_time": "2021-07-31T20:50:45.508Z"
   },
   {
    "duration": 6,
    "start_time": "2021-07-31T20:50:47.260Z"
   },
   {
    "duration": 12,
    "start_time": "2021-07-31T20:50:47.282Z"
   },
   {
    "duration": 4,
    "start_time": "2021-07-31T20:50:47.297Z"
   },
   {
    "duration": 47,
    "start_time": "2021-07-31T20:50:47.303Z"
   },
   {
    "duration": 44,
    "start_time": "2021-07-31T20:50:47.352Z"
   },
   {
    "duration": 95,
    "start_time": "2021-07-31T20:50:47.400Z"
   },
   {
    "duration": 87,
    "start_time": "2021-07-31T20:50:47.501Z"
   },
   {
    "duration": 10,
    "start_time": "2021-07-31T20:50:47.593Z"
   },
   {
    "duration": 4,
    "start_time": "2021-07-31T20:50:47.608Z"
   },
   {
    "duration": 521,
    "start_time": "2021-07-31T20:50:47.614Z"
   },
   {
    "duration": 69,
    "start_time": "2021-07-31T20:50:48.137Z"
   },
   {
    "duration": 10,
    "start_time": "2021-07-31T20:50:48.209Z"
   },
   {
    "duration": 389,
    "start_time": "2021-07-31T20:55:35.692Z"
   },
   {
    "duration": 10,
    "start_time": "2021-07-31T20:57:47.595Z"
   },
   {
    "duration": 803,
    "start_time": "2021-07-31T21:01:33.598Z"
   },
   {
    "duration": 138275,
    "start_time": "2021-07-31T21:03:02.270Z"
   },
   {
    "duration": 1706,
    "start_time": "2021-07-31T21:13:47.572Z"
   },
   {
    "duration": 1604,
    "start_time": "2021-07-31T21:14:15.612Z"
   },
   {
    "duration": 404,
    "start_time": "2021-07-31T21:20:16.385Z"
   },
   {
    "duration": 1515,
    "start_time": "2021-07-31T21:22:51.669Z"
   },
   {
    "duration": 9,
    "start_time": "2021-07-31T21:23:21.505Z"
   },
   {
    "duration": 1486,
    "start_time": "2021-07-31T21:32:57.004Z"
   },
   {
    "duration": 92,
    "start_time": "2021-07-31T21:32:58.496Z"
   },
   {
    "duration": 22,
    "start_time": "2021-07-31T21:34:39.630Z"
   },
   {
    "duration": 19,
    "start_time": "2021-07-31T21:35:19.334Z"
   },
   {
    "duration": 1556,
    "start_time": "2021-07-31T21:37:15.874Z"
   },
   {
    "duration": 3,
    "start_time": "2021-07-31T21:37:17.432Z"
   },
   {
    "duration": 16,
    "start_time": "2021-07-31T21:37:17.438Z"
   },
   {
    "duration": 95,
    "start_time": "2021-07-31T21:37:17.457Z"
   },
   {
    "duration": 39,
    "start_time": "2021-07-31T21:37:17.554Z"
   },
   {
    "duration": 18,
    "start_time": "2021-07-31T21:37:17.596Z"
   },
   {
    "duration": 15,
    "start_time": "2021-07-31T21:37:17.617Z"
   },
   {
    "duration": 14,
    "start_time": "2021-07-31T21:37:17.635Z"
   },
   {
    "duration": 41,
    "start_time": "2021-07-31T21:37:17.654Z"
   },
   {
    "duration": 8,
    "start_time": "2021-07-31T21:37:17.699Z"
   },
   {
    "duration": 8,
    "start_time": "2021-07-31T21:37:17.709Z"
   },
   {
    "duration": 15,
    "start_time": "2021-07-31T21:37:17.720Z"
   },
   {
    "duration": 9,
    "start_time": "2021-07-31T21:37:17.737Z"
   },
   {
    "duration": 98,
    "start_time": "2021-07-31T21:37:17.749Z"
   },
   {
    "duration": 139,
    "start_time": "2021-07-31T21:37:17.850Z"
   },
   {
    "duration": 3419,
    "start_time": "2021-07-31T21:37:17.992Z"
   },
   {
    "duration": 1560,
    "start_time": "2021-07-31T21:37:21.414Z"
   },
   {
    "duration": 1766,
    "start_time": "2021-07-31T21:37:22.982Z"
   },
   {
    "duration": 5,
    "start_time": "2021-07-31T21:37:24.750Z"
   },
   {
    "duration": 25,
    "start_time": "2021-07-31T21:37:24.758Z"
   },
   {
    "duration": 22,
    "start_time": "2021-07-31T21:37:24.786Z"
   },
   {
    "duration": 51,
    "start_time": "2021-07-31T21:37:24.811Z"
   },
   {
    "duration": 21,
    "start_time": "2021-07-31T21:37:24.865Z"
   },
   {
    "duration": 100,
    "start_time": "2021-07-31T21:37:24.890Z"
   },
   {
    "duration": 96,
    "start_time": "2021-07-31T21:37:24.995Z"
   },
   {
    "duration": 28,
    "start_time": "2021-07-31T21:37:25.094Z"
   },
   {
    "duration": 11,
    "start_time": "2021-07-31T21:37:25.127Z"
   },
   {
    "duration": 453,
    "start_time": "2021-07-31T21:37:25.140Z"
   },
   {
    "duration": 57,
    "start_time": "2021-07-31T21:37:25.596Z"
   },
   {
    "duration": 32,
    "start_time": "2021-07-31T21:37:25.655Z"
   },
   {
    "duration": 9,
    "start_time": "2021-07-31T21:37:25.689Z"
   },
   {
    "duration": 921,
    "start_time": "2021-07-31T21:37:25.701Z"
   },
   {
    "duration": 139661,
    "start_time": "2021-07-31T21:37:26.624Z"
   },
   {
    "duration": 1812,
    "start_time": "2021-07-31T21:39:46.288Z"
   },
   {
    "duration": 10,
    "start_time": "2021-07-31T21:39:48.183Z"
   },
   {
    "duration": 26,
    "start_time": "2021-07-31T21:39:48.195Z"
   },
   {
    "duration": 1419,
    "start_time": "2021-07-31T21:55:52.036Z"
   },
   {
    "duration": 4650,
    "start_time": "2021-07-31T21:58:01.250Z"
   },
   {
    "duration": 1874,
    "start_time": "2021-07-31T21:59:43.296Z"
   },
   {
    "duration": 10,
    "start_time": "2021-07-31T22:04:26.114Z"
   },
   {
    "duration": 10,
    "start_time": "2021-07-31T22:04:27.808Z"
   },
   {
    "duration": 9,
    "start_time": "2021-07-31T23:07:22.847Z"
   },
   {
    "duration": 9,
    "start_time": "2021-07-31T23:07:23.840Z"
   },
   {
    "duration": 1384,
    "start_time": "2021-07-31T23:45:37.298Z"
   },
   {
    "duration": 3,
    "start_time": "2021-07-31T23:45:38.685Z"
   },
   {
    "duration": 8,
    "start_time": "2021-07-31T23:45:38.691Z"
   },
   {
    "duration": 92,
    "start_time": "2021-07-31T23:45:38.702Z"
   },
   {
    "duration": 35,
    "start_time": "2021-07-31T23:45:38.797Z"
   },
   {
    "duration": 14,
    "start_time": "2021-07-31T23:45:38.834Z"
   },
   {
    "duration": 30,
    "start_time": "2021-07-31T23:45:38.852Z"
   },
   {
    "duration": 7,
    "start_time": "2021-07-31T23:45:38.887Z"
   },
   {
    "duration": 12,
    "start_time": "2021-07-31T23:45:38.897Z"
   },
   {
    "duration": 5,
    "start_time": "2021-07-31T23:45:38.911Z"
   },
   {
    "duration": 5,
    "start_time": "2021-07-31T23:45:38.918Z"
   },
   {
    "duration": 9,
    "start_time": "2021-07-31T23:45:38.925Z"
   },
   {
    "duration": 45,
    "start_time": "2021-07-31T23:45:38.937Z"
   },
   {
    "duration": 60,
    "start_time": "2021-07-31T23:45:38.985Z"
   },
   {
    "duration": 125,
    "start_time": "2021-07-31T23:45:39.048Z"
   },
   {
    "duration": 3142,
    "start_time": "2021-07-31T23:45:39.175Z"
   },
   {
    "duration": 1412,
    "start_time": "2021-07-31T23:45:42.319Z"
   },
   {
    "duration": 1646,
    "start_time": "2021-07-31T23:45:43.733Z"
   },
   {
    "duration": 6,
    "start_time": "2021-07-31T23:45:45.383Z"
   },
   {
    "duration": 22,
    "start_time": "2021-07-31T23:45:45.392Z"
   },
   {
    "duration": 14,
    "start_time": "2021-07-31T23:45:45.416Z"
   },
   {
    "duration": 55,
    "start_time": "2021-07-31T23:45:45.432Z"
   },
   {
    "duration": 12,
    "start_time": "2021-07-31T23:45:45.492Z"
   },
   {
    "duration": 101,
    "start_time": "2021-07-31T23:45:45.589Z"
   },
   {
    "duration": 8,
    "start_time": "2021-07-31T23:45:45.692Z"
   },
   {
    "duration": 8,
    "start_time": "2021-07-31T23:45:45.702Z"
   },
   {
    "duration": 15,
    "start_time": "2021-07-31T23:45:45.712Z"
   },
   {
    "duration": 446,
    "start_time": "2021-07-31T23:45:45.729Z"
   },
   {
    "duration": 60,
    "start_time": "2021-07-31T23:45:46.177Z"
   },
   {
    "duration": 10,
    "start_time": "2021-07-31T23:45:46.239Z"
   },
   {
    "duration": 7,
    "start_time": "2021-07-31T23:45:46.252Z"
   },
   {
    "duration": 752,
    "start_time": "2021-07-31T23:45:46.283Z"
   },
   {
    "duration": 128147,
    "start_time": "2021-07-31T23:45:47.037Z"
   },
   {
    "duration": 1901,
    "start_time": "2021-07-31T23:47:55.187Z"
   },
   {
    "duration": 7,
    "start_time": "2021-07-31T23:47:57.091Z"
   },
   {
    "duration": 18,
    "start_time": "2021-07-31T23:47:57.101Z"
   },
   {
    "duration": 4373,
    "start_time": "2021-07-31T23:47:57.122Z"
   },
   {
    "duration": 1812,
    "start_time": "2021-07-31T23:48:01.497Z"
   },
   {
    "duration": 9,
    "start_time": "2021-07-31T23:48:03.312Z"
   },
   {
    "duration": 20,
    "start_time": "2021-07-31T23:48:03.324Z"
   },
   {
    "duration": 1541,
    "start_time": "2021-08-01T04:34:34.402Z"
   },
   {
    "duration": 3,
    "start_time": "2021-08-01T04:34:35.945Z"
   },
   {
    "duration": 15,
    "start_time": "2021-08-01T04:34:35.951Z"
   },
   {
    "duration": 149,
    "start_time": "2021-08-01T04:34:35.969Z"
   },
   {
    "duration": 39,
    "start_time": "2021-08-01T04:34:36.120Z"
   },
   {
    "duration": 14,
    "start_time": "2021-08-01T04:34:36.161Z"
   },
   {
    "duration": 10,
    "start_time": "2021-08-01T04:34:36.178Z"
   },
   {
    "duration": 9,
    "start_time": "2021-08-01T04:34:36.192Z"
   },
   {
    "duration": 13,
    "start_time": "2021-08-01T04:34:36.204Z"
   },
   {
    "duration": 6,
    "start_time": "2021-08-01T04:34:36.219Z"
   },
   {
    "duration": 4,
    "start_time": "2021-08-01T04:34:36.268Z"
   },
   {
    "duration": 8,
    "start_time": "2021-08-01T04:34:36.275Z"
   },
   {
    "duration": 6,
    "start_time": "2021-08-01T04:34:36.285Z"
   },
   {
    "duration": 98,
    "start_time": "2021-08-01T04:34:36.294Z"
   },
   {
    "duration": 135,
    "start_time": "2021-08-01T04:34:36.396Z"
   },
   {
    "duration": 3248,
    "start_time": "2021-08-01T04:34:36.533Z"
   },
   {
    "duration": 1675,
    "start_time": "2021-08-01T04:34:39.784Z"
   },
   {
    "duration": 1718,
    "start_time": "2021-08-01T04:34:41.466Z"
   },
   {
    "duration": 7,
    "start_time": "2021-08-01T04:34:43.187Z"
   },
   {
    "duration": 12,
    "start_time": "2021-08-01T04:34:43.198Z"
   },
   {
    "duration": 3,
    "start_time": "2021-08-01T04:34:43.212Z"
   },
   {
    "duration": 98,
    "start_time": "2021-08-01T04:34:43.217Z"
   },
   {
    "duration": 52,
    "start_time": "2021-08-01T04:34:43.320Z"
   },
   {
    "duration": 191,
    "start_time": "2021-08-01T04:34:43.377Z"
   },
   {
    "duration": 9,
    "start_time": "2021-08-01T04:34:43.571Z"
   },
   {
    "duration": 7,
    "start_time": "2021-08-01T04:34:43.582Z"
   },
   {
    "duration": 6,
    "start_time": "2021-08-01T04:34:43.592Z"
   },
   {
    "duration": 495,
    "start_time": "2021-08-01T04:34:43.601Z"
   },
   {
    "duration": 70,
    "start_time": "2021-08-01T04:34:44.099Z"
   },
   {
    "duration": 12,
    "start_time": "2021-08-01T04:34:44.172Z"
   },
   {
    "duration": 8,
    "start_time": "2021-08-01T04:34:44.187Z"
   },
   {
    "duration": 821,
    "start_time": "2021-08-01T04:34:44.197Z"
   },
   {
    "duration": 137349,
    "start_time": "2021-08-01T04:34:45.020Z"
   },
   {
    "duration": 1705,
    "start_time": "2021-08-01T04:37:02.371Z"
   },
   {
    "duration": 8,
    "start_time": "2021-08-01T04:37:04.078Z"
   },
   {
    "duration": 22,
    "start_time": "2021-08-01T04:37:04.089Z"
   },
   {
    "duration": 4594,
    "start_time": "2021-08-01T04:37:04.113Z"
   },
   {
    "duration": 1966,
    "start_time": "2021-08-01T04:37:08.709Z"
   },
   {
    "duration": 9,
    "start_time": "2021-08-01T04:37:10.678Z"
   },
   {
    "duration": 15,
    "start_time": "2021-08-01T04:37:10.689Z"
   },
   {
    "duration": 1528,
    "start_time": "2021-08-01T07:37:16.568Z"
   },
   {
    "duration": 3,
    "start_time": "2021-08-01T07:37:18.099Z"
   },
   {
    "duration": 5,
    "start_time": "2021-08-01T07:37:18.106Z"
   },
   {
    "duration": 127,
    "start_time": "2021-08-01T07:37:18.114Z"
   },
   {
    "duration": 40,
    "start_time": "2021-08-01T07:37:18.244Z"
   },
   {
    "duration": 15,
    "start_time": "2021-08-01T07:37:18.286Z"
   },
   {
    "duration": 12,
    "start_time": "2021-08-01T07:37:18.304Z"
   },
   {
    "duration": 8,
    "start_time": "2021-08-01T07:37:18.318Z"
   },
   {
    "duration": 13,
    "start_time": "2021-08-01T07:37:18.356Z"
   },
   {
    "duration": 5,
    "start_time": "2021-08-01T07:37:18.373Z"
   },
   {
    "duration": 13,
    "start_time": "2021-08-01T07:37:18.381Z"
   },
   {
    "duration": 11,
    "start_time": "2021-08-01T07:37:18.397Z"
   },
   {
    "duration": 12,
    "start_time": "2021-08-01T07:37:18.410Z"
   },
   {
    "duration": 91,
    "start_time": "2021-08-01T07:37:18.424Z"
   },
   {
    "duration": 122,
    "start_time": "2021-08-01T07:37:18.517Z"
   },
   {
    "duration": 3158,
    "start_time": "2021-08-01T07:37:18.641Z"
   },
   {
    "duration": 1479,
    "start_time": "2021-08-01T07:37:21.801Z"
   },
   {
    "duration": 1658,
    "start_time": "2021-08-01T07:37:23.282Z"
   },
   {
    "duration": 13,
    "start_time": "2021-08-01T07:37:24.943Z"
   },
   {
    "duration": 14,
    "start_time": "2021-08-01T07:37:24.958Z"
   },
   {
    "duration": 10,
    "start_time": "2021-08-01T07:37:24.974Z"
   },
   {
    "duration": 61,
    "start_time": "2021-08-01T07:37:24.986Z"
   },
   {
    "duration": 22,
    "start_time": "2021-08-01T07:37:25.049Z"
   },
   {
    "duration": 103,
    "start_time": "2021-08-01T07:37:25.158Z"
   },
   {
    "duration": 8,
    "start_time": "2021-08-01T07:37:25.264Z"
   },
   {
    "duration": 6,
    "start_time": "2021-08-01T07:37:25.275Z"
   },
   {
    "duration": 3,
    "start_time": "2021-08-01T07:37:25.287Z"
   },
   {
    "duration": 489,
    "start_time": "2021-08-01T07:37:25.293Z"
   },
   {
    "duration": 73,
    "start_time": "2021-08-01T07:37:25.785Z"
   },
   {
    "duration": 12,
    "start_time": "2021-08-01T07:37:25.860Z"
   },
   {
    "duration": 8,
    "start_time": "2021-08-01T07:37:25.874Z"
   },
   {
    "duration": 796,
    "start_time": "2021-08-01T07:37:25.884Z"
   },
   {
    "duration": 133910,
    "start_time": "2021-08-01T07:37:26.683Z"
   },
   {
    "duration": 1270,
    "start_time": "2021-08-01T07:39:40.596Z"
   },
   {
    "duration": 8,
    "start_time": "2021-08-01T07:39:41.957Z"
   },
   {
    "duration": 21,
    "start_time": "2021-08-01T07:39:41.967Z"
   },
   {
    "duration": 4667,
    "start_time": "2021-08-01T07:39:41.991Z"
   },
   {
    "duration": 1875,
    "start_time": "2021-08-01T07:39:46.661Z"
   },
   {
    "duration": 22,
    "start_time": "2021-08-01T07:39:48.538Z"
   },
   {
    "duration": 29,
    "start_time": "2021-08-01T07:39:48.562Z"
   },
   {
    "duration": 1980,
    "start_time": "2021-08-01T07:43:57.786Z"
   },
   {
    "duration": 1989,
    "start_time": "2021-08-01T07:46:45.866Z"
   },
   {
    "duration": 1773,
    "start_time": "2021-08-01T07:47:28.243Z"
   },
   {
    "duration": 1826,
    "start_time": "2021-08-01T07:50:05.774Z"
   },
   {
    "duration": 11,
    "start_time": "2021-08-01T08:34:25.132Z"
   },
   {
    "duration": 922,
    "start_time": "2021-08-01T08:35:05.548Z"
   },
   {
    "duration": 1678,
    "start_time": "2021-08-01T08:44:02.823Z"
   },
   {
    "duration": 3,
    "start_time": "2021-08-01T08:44:04.504Z"
   },
   {
    "duration": 10,
    "start_time": "2021-08-01T08:44:04.510Z"
   },
   {
    "duration": 139,
    "start_time": "2021-08-01T08:44:04.522Z"
   },
   {
    "duration": 39,
    "start_time": "2021-08-01T08:44:04.663Z"
   },
   {
    "duration": 14,
    "start_time": "2021-08-01T08:44:04.705Z"
   },
   {
    "duration": 20,
    "start_time": "2021-08-01T08:44:04.721Z"
   },
   {
    "duration": 16,
    "start_time": "2021-08-01T08:44:04.743Z"
   },
   {
    "duration": 28,
    "start_time": "2021-08-01T08:44:04.762Z"
   },
   {
    "duration": 10,
    "start_time": "2021-08-01T08:44:04.793Z"
   },
   {
    "duration": 8,
    "start_time": "2021-08-01T08:44:04.805Z"
   },
   {
    "duration": 15,
    "start_time": "2021-08-01T08:44:04.815Z"
   },
   {
    "duration": 13,
    "start_time": "2021-08-01T08:44:04.833Z"
   },
   {
    "duration": 70,
    "start_time": "2021-08-01T08:44:04.849Z"
   },
   {
    "duration": 122,
    "start_time": "2021-08-01T08:44:04.922Z"
   },
   {
    "duration": 3203,
    "start_time": "2021-08-01T08:44:05.047Z"
   },
   {
    "duration": 1489,
    "start_time": "2021-08-01T08:44:08.255Z"
   },
   {
    "duration": 1908,
    "start_time": "2021-08-01T08:44:09.749Z"
   },
   {
    "duration": 7,
    "start_time": "2021-08-01T08:44:11.661Z"
   },
   {
    "duration": 12,
    "start_time": "2021-08-01T08:44:11.670Z"
   },
   {
    "duration": 4,
    "start_time": "2021-08-01T08:44:11.684Z"
   },
   {
    "duration": 86,
    "start_time": "2021-08-01T08:44:11.690Z"
   },
   {
    "duration": 82,
    "start_time": "2021-08-01T08:44:11.778Z"
   },
   {
    "duration": 109,
    "start_time": "2021-08-01T08:44:11.863Z"
   },
   {
    "duration": 10,
    "start_time": "2021-08-01T08:44:12.059Z"
   },
   {
    "duration": 7,
    "start_time": "2021-08-01T08:44:12.071Z"
   },
   {
    "duration": 9,
    "start_time": "2021-08-01T08:44:12.081Z"
   },
   {
    "duration": 516,
    "start_time": "2021-08-01T08:44:12.093Z"
   },
   {
    "duration": 66,
    "start_time": "2021-08-01T08:44:12.611Z"
   },
   {
    "duration": 10,
    "start_time": "2021-08-01T08:44:12.680Z"
   },
   {
    "duration": 10,
    "start_time": "2021-08-01T08:44:12.693Z"
   },
   {
    "duration": 484,
    "start_time": "2021-08-01T08:44:12.705Z"
   },
   {
    "duration": -467,
    "start_time": "2021-08-01T08:44:13.659Z"
   },
   {
    "duration": -468,
    "start_time": "2021-08-01T08:44:13.661Z"
   },
   {
    "duration": -469,
    "start_time": "2021-08-01T08:44:13.664Z"
   },
   {
    "duration": -469,
    "start_time": "2021-08-01T08:44:13.666Z"
   },
   {
    "duration": -471,
    "start_time": "2021-08-01T08:44:13.669Z"
   },
   {
    "duration": -472,
    "start_time": "2021-08-01T08:44:13.672Z"
   },
   {
    "duration": -488,
    "start_time": "2021-08-01T08:44:13.690Z"
   },
   {
    "duration": -492,
    "start_time": "2021-08-01T08:44:13.696Z"
   },
   {
    "duration": 1108,
    "start_time": "2021-08-01T08:45:16.048Z"
   },
   {
    "duration": 1868,
    "start_time": "2021-08-01T08:45:30.827Z"
   },
   {
    "duration": 4,
    "start_time": "2021-08-01T08:45:32.698Z"
   },
   {
    "duration": 21,
    "start_time": "2021-08-01T08:45:32.706Z"
   },
   {
    "duration": 132,
    "start_time": "2021-08-01T08:45:32.730Z"
   },
   {
    "duration": 48,
    "start_time": "2021-08-01T08:45:32.864Z"
   },
   {
    "duration": 14,
    "start_time": "2021-08-01T08:45:32.914Z"
   },
   {
    "duration": 29,
    "start_time": "2021-08-01T08:45:32.930Z"
   },
   {
    "duration": 37,
    "start_time": "2021-08-01T08:45:32.963Z"
   },
   {
    "duration": 14,
    "start_time": "2021-08-01T08:45:33.003Z"
   },
   {
    "duration": 18,
    "start_time": "2021-08-01T08:45:33.020Z"
   },
   {
    "duration": 13,
    "start_time": "2021-08-01T08:45:33.040Z"
   },
   {
    "duration": 17,
    "start_time": "2021-08-01T08:45:33.055Z"
   },
   {
    "duration": 17,
    "start_time": "2021-08-01T08:45:33.075Z"
   },
   {
    "duration": 70,
    "start_time": "2021-08-01T08:45:33.094Z"
   },
   {
    "duration": 124,
    "start_time": "2021-08-01T08:45:33.166Z"
   },
   {
    "duration": 3253,
    "start_time": "2021-08-01T08:45:33.293Z"
   },
   {
    "duration": 1542,
    "start_time": "2021-08-01T08:45:36.556Z"
   },
   {
    "duration": 1826,
    "start_time": "2021-08-01T08:45:38.101Z"
   },
   {
    "duration": 6,
    "start_time": "2021-08-01T08:45:39.930Z"
   },
   {
    "duration": 24,
    "start_time": "2021-08-01T08:45:39.938Z"
   },
   {
    "duration": 6,
    "start_time": "2021-08-01T08:45:39.964Z"
   },
   {
    "duration": 53,
    "start_time": "2021-08-01T08:45:39.972Z"
   },
   {
    "duration": 36,
    "start_time": "2021-08-01T08:45:40.030Z"
   },
   {
    "duration": 100,
    "start_time": "2021-08-01T08:45:40.069Z"
   },
   {
    "duration": 8,
    "start_time": "2021-08-01T08:45:40.257Z"
   },
   {
    "duration": 7,
    "start_time": "2021-08-01T08:45:40.268Z"
   },
   {
    "duration": 6,
    "start_time": "2021-08-01T08:45:40.276Z"
   },
   {
    "duration": 525,
    "start_time": "2021-08-01T08:45:40.284Z"
   },
   {
    "duration": 70,
    "start_time": "2021-08-01T08:45:40.811Z"
   },
   {
    "duration": 13,
    "start_time": "2021-08-01T08:45:40.883Z"
   },
   {
    "duration": 13,
    "start_time": "2021-08-01T08:45:40.899Z"
   },
   {
    "duration": 785,
    "start_time": "2021-08-01T08:45:40.916Z"
   },
   {
    "duration": 131909,
    "start_time": "2021-08-01T08:45:41.703Z"
   },
   {
    "duration": 503,
    "start_time": "2021-08-01T08:47:53.614Z"
   },
   {
    "duration": -466,
    "start_time": "2021-08-01T08:47:54.585Z"
   },
   {
    "duration": -466,
    "start_time": "2021-08-01T08:47:54.587Z"
   },
   {
    "duration": -468,
    "start_time": "2021-08-01T08:47:54.590Z"
   },
   {
    "duration": -470,
    "start_time": "2021-08-01T08:47:54.593Z"
   },
   {
    "duration": -470,
    "start_time": "2021-08-01T08:47:54.595Z"
   },
   {
    "duration": -477,
    "start_time": "2021-08-01T08:47:54.603Z"
   },
   {
    "duration": 397,
    "start_time": "2021-08-01T08:48:22.135Z"
   },
   {
    "duration": 1878,
    "start_time": "2021-08-01T08:48:48.679Z"
   },
   {
    "duration": 9,
    "start_time": "2021-08-01T08:48:56.555Z"
   },
   {
    "duration": 1508,
    "start_time": "2021-08-01T08:57:24.801Z"
   },
   {
    "duration": 4,
    "start_time": "2021-08-01T08:57:26.311Z"
   },
   {
    "duration": 9,
    "start_time": "2021-08-01T08:57:26.318Z"
   },
   {
    "duration": 120,
    "start_time": "2021-08-01T08:57:26.330Z"
   },
   {
    "duration": 39,
    "start_time": "2021-08-01T08:57:26.452Z"
   },
   {
    "duration": 14,
    "start_time": "2021-08-01T08:57:26.493Z"
   },
   {
    "duration": 10,
    "start_time": "2021-08-01T08:57:26.509Z"
   },
   {
    "duration": 7,
    "start_time": "2021-08-01T08:57:26.522Z"
   },
   {
    "duration": 31,
    "start_time": "2021-08-01T08:57:26.533Z"
   },
   {
    "duration": 6,
    "start_time": "2021-08-01T08:57:26.568Z"
   },
   {
    "duration": 7,
    "start_time": "2021-08-01T08:57:26.577Z"
   },
   {
    "duration": 11,
    "start_time": "2021-08-01T08:57:26.586Z"
   },
   {
    "duration": 7,
    "start_time": "2021-08-01T08:57:26.600Z"
   },
   {
    "duration": 104,
    "start_time": "2021-08-01T08:57:26.609Z"
   },
   {
    "duration": 120,
    "start_time": "2021-08-01T08:57:26.715Z"
   },
   {
    "duration": 3177,
    "start_time": "2021-08-01T08:57:26.837Z"
   },
   {
    "duration": 1749,
    "start_time": "2021-08-01T08:57:30.016Z"
   },
   {
    "duration": 1693,
    "start_time": "2021-08-01T08:57:31.768Z"
   },
   {
    "duration": 6,
    "start_time": "2021-08-01T08:57:33.463Z"
   },
   {
    "duration": 25,
    "start_time": "2021-08-01T08:57:33.471Z"
   },
   {
    "duration": 22,
    "start_time": "2021-08-01T08:57:33.498Z"
   },
   {
    "duration": 51,
    "start_time": "2021-08-01T08:57:33.522Z"
   },
   {
    "duration": 7,
    "start_time": "2021-08-01T08:57:33.576Z"
   },
   {
    "duration": 176,
    "start_time": "2021-08-01T08:57:33.586Z"
   },
   {
    "duration": 8,
    "start_time": "2021-08-01T08:57:33.765Z"
   },
   {
    "duration": 38,
    "start_time": "2021-08-01T08:57:33.776Z"
   },
   {
    "duration": 15,
    "start_time": "2021-08-01T08:57:33.819Z"
   },
   {
    "duration": 447,
    "start_time": "2021-08-01T08:57:33.837Z"
   },
   {
    "duration": 54,
    "start_time": "2021-08-01T08:57:34.286Z"
   },
   {
    "duration": 11,
    "start_time": "2021-08-01T08:57:34.356Z"
   },
   {
    "duration": 22,
    "start_time": "2021-08-01T08:57:34.369Z"
   },
   {
    "duration": 791,
    "start_time": "2021-08-01T08:57:34.394Z"
   },
   {
    "duration": 132312,
    "start_time": "2021-08-01T08:57:35.187Z"
   },
   {
    "duration": 1857,
    "start_time": "2021-08-01T08:59:47.502Z"
   },
   {
    "duration": 8,
    "start_time": "2021-08-01T08:59:49.362Z"
   },
   {
    "duration": 21,
    "start_time": "2021-08-01T08:59:49.373Z"
   },
   {
    "duration": 5070,
    "start_time": "2021-08-01T08:59:49.396Z"
   },
   {
    "duration": 2117,
    "start_time": "2021-08-01T08:59:54.468Z"
   },
   {
    "duration": 10,
    "start_time": "2021-08-01T08:59:56.587Z"
   },
   {
    "duration": 13,
    "start_time": "2021-08-01T08:59:56.600Z"
   },
   {
    "duration": 1864,
    "start_time": "2021-08-01T10:15:49.799Z"
   },
   {
    "duration": 1624,
    "start_time": "2021-08-01T10:16:29.042Z"
   },
   {
    "duration": 3,
    "start_time": "2021-08-01T10:16:30.669Z"
   },
   {
    "duration": 40,
    "start_time": "2021-08-01T10:16:30.675Z"
   },
   {
    "duration": 138,
    "start_time": "2021-08-01T10:16:30.718Z"
   },
   {
    "duration": 39,
    "start_time": "2021-08-01T10:16:30.859Z"
   },
   {
    "duration": 15,
    "start_time": "2021-08-01T10:16:30.900Z"
   },
   {
    "duration": 33,
    "start_time": "2021-08-01T10:16:30.917Z"
   },
   {
    "duration": 10,
    "start_time": "2021-08-01T10:16:30.953Z"
   },
   {
    "duration": 17,
    "start_time": "2021-08-01T10:16:30.966Z"
   },
   {
    "duration": 18,
    "start_time": "2021-08-01T10:16:30.985Z"
   },
   {
    "duration": 41,
    "start_time": "2021-08-01T10:16:31.005Z"
   },
   {
    "duration": 33,
    "start_time": "2021-08-01T10:16:31.048Z"
   },
   {
    "duration": 30,
    "start_time": "2021-08-01T10:16:31.083Z"
   },
   {
    "duration": 83,
    "start_time": "2021-08-01T10:16:31.115Z"
   },
   {
    "duration": 124,
    "start_time": "2021-08-01T10:16:31.200Z"
   },
   {
    "duration": 3269,
    "start_time": "2021-08-01T10:16:31.326Z"
   },
   {
    "duration": 1595,
    "start_time": "2021-08-01T10:16:34.598Z"
   },
   {
    "duration": 1798,
    "start_time": "2021-08-01T10:16:36.196Z"
   },
   {
    "duration": 4,
    "start_time": "2021-08-01T10:16:37.997Z"
   },
   {
    "duration": 16,
    "start_time": "2021-08-01T10:16:38.004Z"
   },
   {
    "duration": 4,
    "start_time": "2021-08-01T10:16:38.022Z"
   },
   {
    "duration": 70,
    "start_time": "2021-08-01T10:16:38.028Z"
   },
   {
    "duration": 53,
    "start_time": "2021-08-01T10:16:38.103Z"
   },
   {
    "duration": 103,
    "start_time": "2021-08-01T10:16:38.160Z"
   },
   {
    "duration": 14,
    "start_time": "2021-08-01T10:16:38.266Z"
   },
   {
    "duration": 6,
    "start_time": "2021-08-01T10:16:38.282Z"
   },
   {
    "duration": 11,
    "start_time": "2021-08-01T10:16:38.291Z"
   },
   {
    "duration": 446,
    "start_time": "2021-08-01T10:16:38.305Z"
   },
   {
    "duration": 55,
    "start_time": "2021-08-01T10:16:38.756Z"
   },
   {
    "duration": 11,
    "start_time": "2021-08-01T10:16:38.813Z"
   },
   {
    "duration": 35,
    "start_time": "2021-08-01T10:16:38.827Z"
   },
   {
    "duration": 1700,
    "start_time": "2021-08-01T10:16:38.864Z"
   },
   {
    "duration": 985,
    "start_time": "2021-08-01T10:16:40.657Z"
   },
   {
    "duration": 131126,
    "start_time": "2021-08-01T10:16:41.644Z"
   },
   {
    "duration": 1791,
    "start_time": "2021-08-01T10:18:52.772Z"
   },
   {
    "duration": 97,
    "start_time": "2021-08-01T10:18:54.566Z"
   },
   {
    "duration": 18,
    "start_time": "2021-08-01T10:18:54.666Z"
   },
   {
    "duration": 4523,
    "start_time": "2021-08-01T10:18:54.687Z"
   },
   {
    "duration": 1999,
    "start_time": "2021-08-01T10:18:59.213Z"
   },
   {
    "duration": 10,
    "start_time": "2021-08-01T10:19:01.214Z"
   },
   {
    "duration": 31,
    "start_time": "2021-08-01T10:19:01.226Z"
   },
   {
    "duration": 1522,
    "start_time": "2021-08-01T11:03:46.473Z"
   },
   {
    "duration": 3,
    "start_time": "2021-08-01T11:03:47.997Z"
   },
   {
    "duration": 13,
    "start_time": "2021-08-01T11:03:48.004Z"
   },
   {
    "duration": 134,
    "start_time": "2021-08-01T11:03:48.020Z"
   },
   {
    "duration": 38,
    "start_time": "2021-08-01T11:03:48.157Z"
   },
   {
    "duration": 14,
    "start_time": "2021-08-01T11:03:48.197Z"
   },
   {
    "duration": 12,
    "start_time": "2021-08-01T11:03:48.213Z"
   },
   {
    "duration": 31,
    "start_time": "2021-08-01T11:03:48.229Z"
   },
   {
    "duration": 13,
    "start_time": "2021-08-01T11:03:48.263Z"
   },
   {
    "duration": 5,
    "start_time": "2021-08-01T11:03:48.278Z"
   },
   {
    "duration": 7,
    "start_time": "2021-08-01T11:03:48.285Z"
   },
   {
    "duration": 9,
    "start_time": "2021-08-01T11:03:48.294Z"
   },
   {
    "duration": 6,
    "start_time": "2021-08-01T11:03:48.306Z"
   },
   {
    "duration": 66,
    "start_time": "2021-08-01T11:03:48.356Z"
   },
   {
    "duration": 132,
    "start_time": "2021-08-01T11:03:48.425Z"
   },
   {
    "duration": 3181,
    "start_time": "2021-08-01T11:03:48.560Z"
   },
   {
    "duration": 1466,
    "start_time": "2021-08-01T11:03:51.744Z"
   },
   {
    "duration": 1691,
    "start_time": "2021-08-01T11:03:53.213Z"
   },
   {
    "duration": 6,
    "start_time": "2021-08-01T11:03:54.907Z"
   },
   {
    "duration": 21,
    "start_time": "2021-08-01T11:03:54.916Z"
   },
   {
    "duration": 16,
    "start_time": "2021-08-01T11:03:54.940Z"
   },
   {
    "duration": 56,
    "start_time": "2021-08-01T11:03:54.959Z"
   },
   {
    "duration": 43,
    "start_time": "2021-08-01T11:03:55.020Z"
   },
   {
    "duration": 105,
    "start_time": "2021-08-01T11:03:55.160Z"
   },
   {
    "duration": 9,
    "start_time": "2021-08-01T11:03:55.268Z"
   },
   {
    "duration": 7,
    "start_time": "2021-08-01T11:03:55.279Z"
   },
   {
    "duration": 10,
    "start_time": "2021-08-01T11:03:55.288Z"
   },
   {
    "duration": 494,
    "start_time": "2021-08-01T11:03:55.300Z"
   },
   {
    "duration": 68,
    "start_time": "2021-08-01T11:03:55.797Z"
   },
   {
    "duration": 12,
    "start_time": "2021-08-01T11:03:55.867Z"
   },
   {
    "duration": 15,
    "start_time": "2021-08-01T11:03:55.881Z"
   },
   {
    "duration": 784,
    "start_time": "2021-08-01T11:03:55.899Z"
   },
   {
    "duration": 135566,
    "start_time": "2021-08-01T11:03:56.685Z"
   },
   {
    "duration": 1904,
    "start_time": "2021-08-01T11:06:12.257Z"
   },
   {
    "duration": 8,
    "start_time": "2021-08-01T11:06:14.163Z"
   },
   {
    "duration": 21,
    "start_time": "2021-08-01T11:06:14.173Z"
   },
   {
    "duration": 4380,
    "start_time": "2021-08-01T11:06:14.196Z"
   },
   {
    "duration": 1849,
    "start_time": "2021-08-01T11:06:18.579Z"
   },
   {
    "duration": 10,
    "start_time": "2021-08-01T11:06:20.431Z"
   },
   {
    "duration": 23,
    "start_time": "2021-08-01T11:06:20.443Z"
   },
   {
    "duration": 1785,
    "start_time": "2021-08-02T04:56:46.441Z"
   },
   {
    "duration": 4,
    "start_time": "2021-08-02T04:56:48.229Z"
   },
   {
    "duration": 8,
    "start_time": "2021-08-02T04:56:48.236Z"
   },
   {
    "duration": 123,
    "start_time": "2021-08-02T04:56:48.262Z"
   },
   {
    "duration": 39,
    "start_time": "2021-08-02T04:56:48.387Z"
   },
   {
    "duration": 14,
    "start_time": "2021-08-02T04:56:48.428Z"
   },
   {
    "duration": 12,
    "start_time": "2021-08-02T04:56:48.445Z"
   },
   {
    "duration": 11,
    "start_time": "2021-08-02T04:56:48.460Z"
   },
   {
    "duration": 19,
    "start_time": "2021-08-02T04:56:48.474Z"
   },
   {
    "duration": 6,
    "start_time": "2021-08-02T04:56:48.496Z"
   },
   {
    "duration": 6,
    "start_time": "2021-08-02T04:56:48.505Z"
   },
   {
    "duration": 11,
    "start_time": "2021-08-02T04:56:48.514Z"
   },
   {
    "duration": 8,
    "start_time": "2021-08-02T04:56:48.562Z"
   },
   {
    "duration": 67,
    "start_time": "2021-08-02T04:56:48.573Z"
   },
   {
    "duration": 137,
    "start_time": "2021-08-02T04:56:48.662Z"
   },
   {
    "duration": 3995,
    "start_time": "2021-08-02T04:56:48.801Z"
   },
   {
    "duration": 1970,
    "start_time": "2021-08-02T04:56:52.799Z"
   },
   {
    "duration": 1806,
    "start_time": "2021-08-02T04:56:54.772Z"
   },
   {
    "duration": 5,
    "start_time": "2021-08-02T04:56:56.581Z"
   },
   {
    "duration": 23,
    "start_time": "2021-08-02T04:56:56.588Z"
   },
   {
    "duration": 19,
    "start_time": "2021-08-02T04:56:56.614Z"
   },
   {
    "duration": 75,
    "start_time": "2021-08-02T04:56:56.635Z"
   },
   {
    "duration": 65,
    "start_time": "2021-08-02T04:56:56.715Z"
   },
   {
    "duration": 91,
    "start_time": "2021-08-02T04:56:56.784Z"
   },
   {
    "duration": 107,
    "start_time": "2021-08-02T04:56:56.878Z"
   },
   {
    "duration": 9,
    "start_time": "2021-08-02T04:56:56.988Z"
   },
   {
    "duration": 11,
    "start_time": "2021-08-02T04:56:56.999Z"
   },
   {
    "duration": 489,
    "start_time": "2021-08-02T04:56:57.013Z"
   },
   {
    "duration": 89,
    "start_time": "2021-08-02T04:56:57.505Z"
   },
   {
    "duration": 11,
    "start_time": "2021-08-02T04:56:57.596Z"
   },
   {
    "duration": 12,
    "start_time": "2021-08-02T04:56:57.609Z"
   },
   {
    "duration": 886,
    "start_time": "2021-08-02T04:56:57.623Z"
   },
   {
    "duration": 148628,
    "start_time": "2021-08-02T04:56:58.511Z"
   },
   {
    "duration": 1132,
    "start_time": "2021-08-02T04:59:27.141Z"
   },
   {
    "duration": 13,
    "start_time": "2021-08-02T04:59:28.275Z"
   },
   {
    "duration": 17,
    "start_time": "2021-08-02T04:59:28.363Z"
   },
   {
    "duration": 4563,
    "start_time": "2021-08-02T04:59:28.383Z"
   },
   {
    "duration": 2177,
    "start_time": "2021-08-02T04:59:32.948Z"
   },
   {
    "duration": 11,
    "start_time": "2021-08-02T04:59:35.128Z"
   },
   {
    "duration": 34,
    "start_time": "2021-08-02T04:59:35.142Z"
   }
  ],
  "kernelspec": {
   "display_name": "Python 3",
   "language": "python",
   "name": "python3"
  },
  "language_info": {
   "codemirror_mode": {
    "name": "ipython",
    "version": 3
   },
   "file_extension": ".py",
   "mimetype": "text/x-python",
   "name": "python",
   "nbconvert_exporter": "python",
   "pygments_lexer": "ipython3",
   "version": "3.8.5"
  },
  "toc": {
   "base_numbering": 1,
   "nav_menu": {},
   "number_sections": true,
   "sideBar": true,
   "skip_h1_title": true,
   "title_cell": "Table of Contents",
   "title_sidebar": "Contents",
   "toc_cell": false,
   "toc_position": {},
   "toc_section_display": true,
   "toc_window_display": false
  }
 },
 "nbformat": 4,
 "nbformat_minor": 2
}
